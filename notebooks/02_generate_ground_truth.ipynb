{
 "cells": [
  {
   "cell_type": "markdown",
   "id": "5992b1f2-2be3-4b18-9a72-3cb53f67075a",
   "metadata": {},
   "source": [
    "# Generate Ground Truth Examples"
   ]
  },
  {
   "cell_type": "markdown",
   "id": "1e12b01c-f926-477e-b7d6-03c51fd06c84",
   "metadata": {},
   "source": [
    "In this notebook there will be created a ground truth dataset from the pdf files available, you can generate questions using either Open AI models or open-source Ollama framework."
   ]
  },
  {
   "cell_type": "markdown",
   "id": "0b20ca60",
   "metadata": {},
   "source": [
    "## Import libraries"
   ]
  },
  {
   "cell_type": "code",
   "execution_count": 1,
   "id": "9d501557-369f-4343-a5ca-bfcecd617d1f",
   "metadata": {
    "ExecuteTime": {
     "end_time": "2024-08-06T11:52:59.045555Z",
     "start_time": "2024-08-06T11:52:55.840497Z"
    },
    "tags": []
   },
   "outputs": [],
   "source": [
    "# imports\n",
    "import os\n",
    "import pickle\n",
    "import sys\n",
    "import json\n",
    "from openai import OpenAI\n",
    "\n",
    "from tqdm import tqdm\n",
    "from dotenv import load_dotenv\n",
    "import os\n",
    "\n",
    "load_dotenv()\n",
    "\n",
    "\n",
    "project_dir = os.path.abspath(os.path.join(os.getcwd(), os.pardir))\n",
    "sys.path.insert(0, os.path.join(project_dir, \"utils\"))"
   ]
  },
  {
   "cell_type": "markdown",
   "id": "5f5c5232",
   "metadata": {},
   "source": [
    "## Load documents from pickle"
   ]
  },
  {
   "cell_type": "code",
   "execution_count": 2,
   "id": "8e9283a5-888e-4a4a-a587-03bcc8fde9a3",
   "metadata": {
    "ExecuteTime": {
     "end_time": "2024-08-06T11:53:13.001272Z",
     "start_time": "2024-08-06T11:53:12.705370Z"
    },
    "tags": []
   },
   "outputs": [],
   "source": [
    "with open(\"../data/docs_processed.pickle\", \"rb\") as f:\n",
    "    documents = pickle.load(f)"
   ]
  },
  {
   "cell_type": "code",
   "execution_count": 3,
   "id": "60e77f49-ea5c-4435-98f0-488c098ff2da",
   "metadata": {
    "tags": []
   },
   "outputs": [
    {
     "data": {
      "text/plain": [
       "4428"
      ]
     },
     "execution_count": 3,
     "metadata": {},
     "output_type": "execute_result"
    }
   ],
   "source": [
    "len(documents)"
   ]
  },
  {
   "cell_type": "code",
   "execution_count": 4,
   "id": "5c23c9bf-5f56-497b-8a48-4bb716c0c88b",
   "metadata": {
    "tags": []
   },
   "outputs": [
    {
     "data": {
      "text/plain": [
       "{'metadata': {'document_id': 'f392923b41',\n",
       "  'pdf_name': 'Responsible_travel.pdf',\n",
       "  'pdf_part': 0,\n",
       "  'Header 2': 'Responsible Travel'},\n",
       " 'content': 'See Sustainable travel for the ecological and appropriate technology dimension of travel sustainability.'}"
      ]
     },
     "execution_count": 4,
     "metadata": {},
     "output_type": "execute_result"
    }
   ],
   "source": [
    "documents[0]"
   ]
  },
  {
   "cell_type": "code",
   "execution_count": 5,
   "id": "bf80c5a6-1140-42ce-b374-729f18e818a6",
   "metadata": {
    "tags": []
   },
   "outputs": [],
   "source": [
    "file_names = set()\n",
    "\n",
    "for doc in documents:\n",
    "    file_names.add(doc[\"metadata\"][\"pdf_name\"])"
   ]
  },
  {
   "cell_type": "code",
   "execution_count": 6,
   "id": "3cfd9d9e-affc-46c7-ab82-11a38292fb66",
   "metadata": {
    "tags": []
   },
   "outputs": [
    {
     "data": {
      "text/plain": [
       "12"
      ]
     },
     "execution_count": 6,
     "metadata": {},
     "output_type": "execute_result"
    }
   ],
   "source": [
    "len(file_names)"
   ]
  },
  {
   "cell_type": "code",
   "execution_count": 7,
   "id": "8e752a2a-5364-4596-b3c4-d10a32a3ee56",
   "metadata": {
    "tags": []
   },
   "outputs": [
    {
     "data": {
      "text/plain": [
       "{'Brunei.pdf',\n",
       " 'Cambodia.pdf',\n",
       " 'Indonesia.pdf',\n",
       " 'Laos.pdf',\n",
       " 'Malaysia.pdf',\n",
       " 'Myanmar.pdf',\n",
       " 'Philippines.pdf',\n",
       " 'Responsible_travel.pdf',\n",
       " 'Singapore.pdf',\n",
       " 'Sustainable_travel.pdf',\n",
       " 'Thailand.pdf',\n",
       " 'Vietnam.pdf'}"
      ]
     },
     "execution_count": 7,
     "metadata": {},
     "output_type": "execute_result"
    }
   ],
   "source": [
    "file_names"
   ]
  },
  {
   "cell_type": "markdown",
   "id": "12f75456",
   "metadata": {},
   "source": [
    "## Generate ground truth questions from text chunks"
   ]
  },
  {
   "cell_type": "markdown",
   "id": "3670682e",
   "metadata": {},
   "source": [
    "## Ollama"
   ]
  },
  {
   "cell_type": "code",
   "execution_count": 8,
   "id": "3afeeae0",
   "metadata": {},
   "outputs": [],
   "source": [
    "client = OpenAI(\n",
    "    base_url=\"http://localhost:11434/v1/\",\n",
    "    api_key=\"ollama\",\n",
    ")\n",
    "model_name = \"phi3\""
   ]
  },
  {
   "cell_type": "markdown",
   "id": "63dfffc7",
   "metadata": {},
   "source": [
    "## OpenAI"
   ]
  },
  {
   "cell_type": "code",
   "execution_count": 8,
   "id": "5a369e00",
   "metadata": {},
   "outputs": [],
   "source": [
    "client = OpenAI(api_key=os.getenv(\"OPENAI_API_KEY\"))\n",
    "model_name = \"gpt-4o\""
   ]
  },
  {
   "cell_type": "code",
   "execution_count": 9,
   "id": "905c5479",
   "metadata": {},
   "outputs": [],
   "source": [
    "prompt_template = \"\"\"\n",
    "You are an AI model assisting in developing a sustainable tourism recommender system for Southeast Asia. \n",
    "Your task is to generate 4 questions that a user might ask when planning a trip to this region with a focus on sustainability. \n",
    "The questions should be based on the provided record, which contains information from sources like WikiVoyage about travel destinations, ethical travel practices, and sustainable tourism tips.\n",
    "\n",
    "The record includes:\n",
    "\n",
    "topic: {metadata}\n",
    "text: {content}\n",
    "\n",
    "Formulate 4 clear and complete questions based on the provided record. These questions should be relevant to sustainable travel and tourism in Southeast Asia and should encourage users to think about ethical and eco-friendly travel options. \n",
    "Ensure the questions are varied and concise, using as few words as possible from the original text.\n",
    "\n",
    "Provide the output in parsable JSON format without using code blocks:\n",
    "\n",
    "[\"question1\", \"question2\", ..., \"question5\"]\n",
    "\"\"\".strip()"
   ]
  },
  {
   "cell_type": "code",
   "execution_count": 10,
   "id": "3b4038b6",
   "metadata": {},
   "outputs": [],
   "source": [
    "def generate_questions(doc):\n",
    "    prompt = prompt_template.format(**doc)\n",
    "\n",
    "    response = client.chat.completions.create(\n",
    "        model=model_name, messages=[{\"role\": \"user\", \"content\": prompt}]\n",
    "    )\n",
    "\n",
    "    json_response = response.choices[0].message.content\n",
    "    return json_response"
   ]
  },
  {
   "cell_type": "code",
   "execution_count": 11,
   "id": "24f8cf6d",
   "metadata": {},
   "outputs": [
    {
     "name": "stderr",
     "output_type": "stream",
     "text": [
      "100%|██████████| 4428/4428 [06:12<00:00, 11.88it/s]  \n"
     ]
    }
   ],
   "source": [
    "results = {}\n",
    "\n",
    "for doc in tqdm(documents):\n",
    "\n",
    "    doc_id = doc[\"metadata\"][\"document_id\"]\n",
    "    if doc_id in results:\n",
    "        continue\n",
    "\n",
    "    questions = generate_questions(doc)\n",
    "    results[doc_id] = questions"
   ]
  },
  {
   "cell_type": "code",
   "execution_count": 12,
   "id": "902ee9e4-be6a-4a2b-a660-05b0aaaf00f9",
   "metadata": {
    "tags": []
   },
   "outputs": [
    {
     "data": {
      "text/plain": [
       "{'metadata': {'document_id': '7f0cdf842b',\n",
       "  'pdf_name': 'Malaysia.pdf',\n",
       "  'pdf_part': 1,\n",
       "  'Header 2': 'Cities'},\n",
       " 'content': \"old town and tin mining area Johor Bahru - capital of Johor and Malaysia's third largest city Kuantan - capital of Pahang and commercial centre of the East Coast Kota Kinabalu - close to tropical islands, lush rain forest and Mount Kinabalu Kuching - capital of Sarawak, and largest city in East Malaysia 7 8\"}"
      ]
     },
     "execution_count": 12,
     "metadata": {},
     "output_type": "execute_result"
    }
   ],
   "source": [
    "documents[1004]"
   ]
  },
  {
   "cell_type": "markdown",
   "id": "c255c0f8-31be-40cd-8b9e-2ff9a48b10c3",
   "metadata": {},
   "source": [
    "### Join answers with questions"
   ]
  },
  {
   "cell_type": "code",
   "execution_count": 13,
   "id": "83d21aea-8872-419d-94b8-75876843dfe6",
   "metadata": {
    "tags": []
   },
   "outputs": [
    {
     "name": "stderr",
     "output_type": "stream",
     "text": [
      "100%|██████████| 4428/4428 [00:00<00:00, 2700258.52it/s]\n"
     ]
    }
   ],
   "source": [
    "for doc in tqdm(documents):\n",
    "\n",
    "    doc_id = doc[\"metadata\"][\"document_id\"]\n",
    "    if doc_id in results:\n",
    "\n",
    "        doc[\"ground_truth\"] = results[doc_id]"
   ]
  },
  {
   "cell_type": "code",
   "execution_count": 14,
   "id": "eeb4e9f9-1631-43a7-aaf5-0775d7e4b64f",
   "metadata": {
    "tags": []
   },
   "outputs": [
    {
     "data": {
      "text/plain": [
       "{'metadata': {'document_id': 'f36c94667a',\n",
       "  'pdf_name': 'Responsible_travel.pdf',\n",
       "  'pdf_part': 2,\n",
       "  'Header 2': 'Understand'},\n",
       " 'content': \"bottom line. When you shop, you're putting your money in the hands of locals in a sustainable way, not staying at chain hotels, where revenue isn't spread around. Most principles of responsible tourism were put forth in the Cape Town Declaration on Responsible Tourism in Destinations (http://responsibletourismpartnership.org/cape-town-declaration-on-responsible -tourism/) (Responsible organization (http://www.icrtourism.org/)). In the development of many tourism projects, indigenous people have\",\n",
       " 'ground_truth': '[\\n    \"What are the benefits of shopping locally when traveling in Southeast Asia?\",\\n    \"How does staying in locally-owned accommodations contribute to sustainable tourism?\",\\n    \"What key principles of responsible tourism should be considered when visiting Southeast Asia?\",\\n    \"How can indigenous communities be supported through responsible travel practices?\"\\n]'}"
      ]
     },
     "execution_count": 14,
     "metadata": {},
     "output_type": "execute_result"
    }
   ],
   "source": [
    "documents[4]"
   ]
  },
  {
   "cell_type": "code",
   "execution_count": 15,
   "id": "d1228f9b-5312-4b0e-9e9e-806cd6c55745",
   "metadata": {
    "tags": []
   },
   "outputs": [],
   "source": [
    "import pickle\n",
    "\n",
    "with open(\"../data/GT_docs_{}.bin\".format(model_name), \"wb\") as file:\n",
    "    pickle.dump(documents, file)"
   ]
  },
  {
   "cell_type": "code",
   "execution_count": null,
   "id": "a2f8578d-479c-47ae-bd0f-0406db5a0640",
   "metadata": {},
   "outputs": [],
   "source": []
  }
 ],
 "metadata": {
  "kernelspec": {
   "display_name": "venv",
   "language": "python",
   "name": "venv"
  },
  "language_info": {
   "codemirror_mode": {
    "name": "ipython",
    "version": 3
   },
   "file_extension": ".py",
   "mimetype": "text/x-python",
   "name": "python",
   "nbconvert_exporter": "python",
   "pygments_lexer": "ipython3",
   "version": "3.12.4"
  },
  "toc": {
   "base_numbering": 1,
   "nav_menu": {
    "height": "170px",
    "width": "344px"
   },
   "number_sections": true,
   "sideBar": true,
   "skip_h1_title": false,
   "title_cell": "Table of Contents",
   "title_sidebar": "Contents",
   "toc_cell": false,
   "toc_position": {},
   "toc_section_display": true,
   "toc_window_display": false
  },
  "varInspector": {
   "cols": {
    "lenName": 16,
    "lenType": 16,
    "lenVar": 40
   },
   "kernels_config": {
    "python": {
     "delete_cmd_postfix": "",
     "delete_cmd_prefix": "del ",
     "library": "var_list.py",
     "varRefreshCmd": "print(var_dic_list())"
    },
    "r": {
     "delete_cmd_postfix": ") ",
     "delete_cmd_prefix": "rm(",
     "library": "var_list.r",
     "varRefreshCmd": "cat(var_dic_list()) "
    }
   },
   "types_to_exclude": [
    "module",
    "function",
    "builtin_function_or_method",
    "instance",
    "_Feature"
   ],
   "window_display": false
  }
 },
 "nbformat": 4,
 "nbformat_minor": 5
}
