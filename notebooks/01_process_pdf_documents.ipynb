{
 "cells": [
  {
   "cell_type": "markdown",
   "id": "5992b1f2-2be3-4b18-9a72-3cb53f67075a",
   "metadata": {},
   "source": [
    "# Process PDF Documents"
   ]
  },
  {
   "cell_type": "code",
   "execution_count": 1,
   "id": "e2b4f8d1",
   "metadata": {
    "tags": []
   },
   "outputs": [
    {
     "name": "stderr",
     "output_type": "stream",
     "text": [
      "/home/ec2-user/SageMaker/ethical-travel-recommender/.venv/lib/python3.10/site-packages/tqdm/auto.py:21: TqdmWarning: IProgress not found. Please update jupyter and ipywidgets. See https://ipywidgets.readthedocs.io/en/stable/user_install.html\n",
      "  from .autonotebook import tqdm as notebook_tqdm\n"
     ]
    }
   ],
   "source": [
    "import hashlib\n",
    "import os\n",
    "import pickle\n",
    "\n",
    "from langchain_text_splitters import (\n",
    "    MarkdownHeaderTextSplitter,\n",
    "    RecursiveCharacterTextSplitter,\n",
    ")\n",
    "from marker.convert import convert_single_pdf\n",
    "from marker.logger import configure_logging\n",
    "from marker.models import load_all_models\n",
    "from tqdm import tqdm"
   ]
  },
  {
   "cell_type": "markdown",
   "id": "0b20ca60",
   "metadata": {},
   "source": [
    "## Download files and process pdf files with marker converter (.pdf -> .md)"
   ]
  },
  {
   "cell_type": "markdown",
   "id": "4a6effd7",
   "metadata": {},
   "source": [
    "https://github.com/VikParuchuri/marker?tab=readme-ov-file"
   ]
  },
  {
   "cell_type": "code",
   "execution_count": 2,
   "id": "a22d7c00-d08c-4838-9061-247bd64fc91d",
   "metadata": {
    "tags": []
   },
   "outputs": [],
   "source": [
    "def parse_file_name(filename):\n",
    "    # Remove space and dots on filename\n",
    "    if filename.endswith(\".pdf\"):\n",
    "        name_part = filename[:-4]\n",
    "        name_part = name_part.replace(\" \", \"\").replace(\".\", \"\")\n",
    "        cleaned_filename = name_part + \".pdf\"\n",
    "    else:\n",
    "        cleaned_filename = filename.replace(\" \", \"\").replace(\".\", \"\")\n",
    "    return cleaned_filename"
   ]
  },
  {
   "cell_type": "code",
   "execution_count": 3,
   "id": "b25a4104-858b-4e39-8295-7e3a79b3f31a",
   "metadata": {
    "tags": []
   },
   "outputs": [],
   "source": [
    "def convert_pdf_to_markdown(fname, reference_folder, model_lst, md_out_path=None):\n",
    "\n",
    "    md_filename = fname.rsplit(\".\", 1)[0] + \".md\"\n",
    "\n",
    "    pdf_filename = os.path.join(reference_folder, fname)\n",
    "\n",
    "    print(pdf_filename)\n",
    "    full_text, _, _ = convert_single_pdf(pdf_filename, model_lst, batch_multiplier=1)\n",
    "\n",
    "    if md_out_path:\n",
    "        with open(os.path.join(md_out_path, md_filename), \"w+\") as f:\n",
    "            f.write(full_text)\n",
    "    else:\n",
    "        return full_text"
   ]
  },
  {
   "cell_type": "code",
   "execution_count": 4,
   "id": "00ce0655-3316-402d-9926-c03636cbaf23",
   "metadata": {
    "tags": []
   },
   "outputs": [],
   "source": [
    "def download_and_process_pdf_file(\n",
    "    f_key, text_splitter, markdown_splitter, model_lst, reference_folder=\"../data/\"\n",
    "):\n",
    "\n",
    "    temp_file_name = parse_file_name(f_key)\n",
    "    temp_file_path = os.path.join(reference_folder, temp_file_name)\n",
    "    \n",
    "    mdfile = convert_pdf_to_markdown(temp_file_name, reference_folder, model_lst, None)\n",
    "\n",
    "    md_header_split = markdown_splitter.split_text(mdfile)\n",
    "\n",
    "    documents = []\n",
    "    for split in md_header_split:\n",
    "\n",
    "        split_texts = text_splitter.split_text(split.page_content)\n",
    "\n",
    "        for i, split_text in enumerate(split_texts):\n",
    "\n",
    "            document_id = f\"{f_key}_part_{i}\"\n",
    "            hash_object = hashlib.md5(document_id.encode())\n",
    "            hash_hex = hash_object.hexdigest()\n",
    "            document_id = hash_hex[:10]\n",
    "\n",
    "            metadata_dict = {\n",
    "                \"document_id\": document_id,\n",
    "                \"pdf_name\": f_key,\n",
    "                \"pdf_part\": i,\n",
    "            }\n",
    "\n",
    "            metadata_dict.update(split.metadata)\n",
    "\n",
    "            documents.append({\"metadata\": metadata_dict, \"content\": split_text})\n",
    "            \n",
    "    return documents"
   ]
  },
  {
   "cell_type": "markdown",
   "id": "13288257-081a-4d13-bd1e-a7bf24cceb94",
   "metadata": {},
   "source": [
    "List files in folder"
   ]
  },
  {
   "cell_type": "code",
   "execution_count": 5,
   "id": "0b8b5147",
   "metadata": {},
   "outputs": [
    {
     "name": "stdout",
     "output_type": "stream",
     "text": [
      "Number of PDFs read: 12\n"
     ]
    }
   ],
   "source": [
    "import os\n",
    "\n",
    "\n",
    "def list_pdf_files(directory_path):\n",
    "    \"\"\"\n",
    "    Lists all PDF files in the given directory and attempts to read them as binary data.\n",
    "\n",
    "    Parameters:\n",
    "        directory_path (str): The path to the directory containing PDF files.\n",
    "\n",
    "    Returns:\n",
    "        dict: A dictionary where keys are filenames and values are raw binary content or text content (if readable).\n",
    "    \"\"\"\n",
    "    pdf_files_content = {}\n",
    "\n",
    "    # Check if the directory exists\n",
    "    if not os.path.isdir(directory_path):\n",
    "        print(f\"The directory '{directory_path}' does not exist.\")\n",
    "        return pdf_files_content\n",
    "\n",
    "    filenames = [f for f in os.listdir(directory_path) if f.lower().endswith('.pdf')]\n",
    "\n",
    "    return filenames\n",
    "\n",
    "\n",
    "# Usage example\n",
    "directory = \"../data/\"  # Replace with your directory path\n",
    "filenames = list_pdf_files(directory)\n",
    "print(f\"Number of PDFs read: {len(filenames)}\")"
   ]
  },
  {
   "cell_type": "markdown",
   "id": "57760d08-5e0b-4bcb-930d-4eeca15a4071",
   "metadata": {},
   "source": [
    "Setup marker class for converting pdf to markdown"
   ]
  },
  {
   "cell_type": "code",
   "execution_count": 6,
   "id": "68896759-5ec9-432a-9e90-09ac127de930",
   "metadata": {
    "scrolled": true,
    "tags": []
   },
   "outputs": [
    {
     "name": "stdout",
     "output_type": "stream",
     "text": [
      "Loaded detection model vikp/surya_det3 on device cuda with dtype torch.float16\n",
      "Loaded detection model vikp/surya_layout3 on device cuda with dtype torch.float16\n",
      "Loaded reading order model vikp/surya_order on device cuda with dtype torch.float16\n",
      "Loaded recognition model vikp/surya_rec2 on device cuda with dtype torch.float16\n",
      "Loaded texify model to cuda with torch.float16 dtype\n"
     ]
    }
   ],
   "source": [
    "configure_logging()\n",
    "model_lst = load_all_models()"
   ]
  },
  {
   "cell_type": "markdown",
   "id": "e05dc25a-e5b0-4e83-8a7e-d830a85bac6d",
   "metadata": {},
   "source": [
    "Setup process splitters"
   ]
  },
  {
   "cell_type": "code",
   "execution_count": 7,
   "id": "761d54ae",
   "metadata": {
    "ExecuteTime": {
     "end_time": "2024-08-06T16:05:43.213260Z",
     "start_time": "2024-08-06T16:05:43.205942Z"
    },
    "tags": []
   },
   "outputs": [],
   "source": [
    "headers_to_split_on = [\n",
    "    (\"#\", \"Header 1\"),\n",
    "    (\"##\", \"Header 2\"),\n",
    "    (\"###\", \"Header 3\"),\n",
    "]\n",
    "chunk_size = 500\n",
    "chunk_overlap = 100\n",
    "text_splitter = RecursiveCharacterTextSplitter(\n",
    "    chunk_size=chunk_size, chunk_overlap=chunk_overlap\n",
    ")\n",
    "markdown_splitter = MarkdownHeaderTextSplitter(headers_to_split_on=headers_to_split_on)"
   ]
  },
  {
   "cell_type": "code",
   "execution_count": 8,
   "id": "b1760562-db2e-4543-b03f-46c6022f12b3",
   "metadata": {},
   "outputs": [
    {
     "name": "stderr",
     "output_type": "stream",
     "text": [
      "  0%|          | 0/12 [00:00<?, ?it/s]"
     ]
    },
    {
     "name": "stdout",
     "output_type": "stream",
     "text": [
      "\n",
      " filename: Responsible_travel.pdf \n",
      "\n",
      "../data/Responsible_travel.pdf\n"
     ]
    },
    {
     "name": "stderr",
     "output_type": "stream",
     "text": [
      "\n",
      "Detecting bboxes:   0%|          | 0/2 [00:00<?, ?it/s]\u001b[A\n",
      "Detecting bboxes:  50%|█████     | 1/2 [00:00<00:00,  1.08it/s]\u001b[A\n",
      "Detecting bboxes: 100%|██████████| 2/2 [00:01<00:00,  1.60it/s]\u001b[A\n",
      "\n",
      "Detecting bboxes:   0%|          | 0/1 [00:00<?, ?it/s]\u001b[A\n",
      "Detecting bboxes: 100%|██████████| 1/1 [00:01<00:00,  1.25s/it]\u001b[A\n",
      "\n",
      "Finding reading order:   0%|          | 0/1 [00:00<?, ?it/s]\u001b[A\n",
      "Finding reading order: 100%|██████████| 1/1 [00:01<00:00,  1.42s/it]\u001b[A\n",
      "  8%|▊         | 1/12 [00:07<01:27,  7.91s/it]"
     ]
    },
    {
     "name": "stdout",
     "output_type": "stream",
     "text": [
      "\n",
      " filename: Thailand.pdf \n",
      "\n",
      "../data/Thailand.pdf\n"
     ]
    },
    {
     "name": "stderr",
     "output_type": "stream",
     "text": [
      "\n",
      "Detecting bboxes:   0%|          | 0/17 [00:00<?, ?it/s]\u001b[A\n",
      "Detecting bboxes:   6%|▌         | 1/17 [00:00<00:11,  1.45it/s]\u001b[A\n",
      "Detecting bboxes:  12%|█▏        | 2/17 [00:01<00:09,  1.54it/s]\u001b[A\n",
      "Detecting bboxes:  18%|█▊        | 3/17 [00:01<00:09,  1.51it/s]\u001b[A\n",
      "Detecting bboxes:  24%|██▎       | 4/17 [00:02<00:08,  1.52it/s]\u001b[A\n",
      "Detecting bboxes:  29%|██▉       | 5/17 [00:03<00:07,  1.54it/s]\u001b[A\n",
      "Detecting bboxes:  35%|███▌      | 6/17 [00:03<00:07,  1.54it/s]\u001b[A\n",
      "Detecting bboxes:  41%|████      | 7/17 [00:04<00:06,  1.55it/s]\u001b[A\n",
      "Detecting bboxes:  47%|████▋     | 8/17 [00:05<00:05,  1.53it/s]\u001b[A\n",
      "Detecting bboxes:  53%|█████▎    | 9/17 [00:05<00:05,  1.54it/s]\u001b[A\n",
      "Detecting bboxes:  59%|█████▉    | 10/17 [00:06<00:04,  1.54it/s]\u001b[A\n",
      "Detecting bboxes:  65%|██████▍   | 11/17 [00:07<00:03,  1.54it/s]\u001b[A\n",
      "Detecting bboxes:  71%|███████   | 12/17 [00:07<00:03,  1.54it/s]\u001b[A\n",
      "Detecting bboxes:  76%|███████▋  | 13/17 [00:08<00:02,  1.54it/s]\u001b[A\n",
      "Detecting bboxes:  82%|████████▏ | 14/17 [00:09<00:01,  1.54it/s]\u001b[A\n",
      "Detecting bboxes:  88%|████████▊ | 15/17 [00:09<00:01,  1.53it/s]\u001b[A\n",
      "Detecting bboxes:  94%|█████████▍| 16/17 [00:10<00:00,  1.53it/s]\u001b[A\n",
      "Detecting bboxes: 100%|██████████| 17/17 [00:10<00:00,  1.60it/s]\u001b[A\n",
      "\n",
      "Detecting bboxes:   0%|          | 0/11 [00:00<?, ?it/s]\u001b[A\n",
      "Detecting bboxes:   9%|▉         | 1/11 [00:01<00:12,  1.27s/it]\u001b[A\n",
      "Detecting bboxes:  18%|█▊        | 2/11 [00:02<00:11,  1.27s/it]\u001b[A\n",
      "Detecting bboxes:  27%|██▋       | 3/11 [00:03<00:10,  1.27s/it]\u001b[A\n",
      "Detecting bboxes:  36%|███▋      | 4/11 [00:05<00:08,  1.27s/it]\u001b[A\n",
      "Detecting bboxes:  45%|████▌     | 5/11 [00:06<00:07,  1.26s/it]\u001b[A\n",
      "Detecting bboxes:  55%|█████▍    | 6/11 [00:07<00:06,  1.25s/it]\u001b[A\n",
      "Detecting bboxes:  64%|██████▎   | 7/11 [00:08<00:05,  1.26s/it]\u001b[A\n",
      "Detecting bboxes:  73%|███████▎  | 8/11 [00:10<00:03,  1.26s/it]\u001b[A\n",
      "Detecting bboxes:  82%|████████▏ | 9/11 [00:11<00:02,  1.26s/it]\u001b[A\n",
      "Detecting bboxes:  91%|█████████ | 10/11 [00:12<00:01,  1.26s/it]\u001b[A\n",
      "Detecting bboxes: 100%|██████████| 11/11 [00:13<00:00,  1.24s/it]\u001b[A\n",
      "\n",
      "Finding reading order:   0%|          | 0/11 [00:00<?, ?it/s]\u001b[A\n",
      "Finding reading order:   9%|▉         | 1/11 [00:00<00:09,  1.03it/s]\u001b[A\n",
      "Finding reading order:  18%|█▊        | 2/11 [00:01<00:08,  1.06it/s]\u001b[A\n",
      "Finding reading order:  27%|██▋       | 3/11 [00:02<00:07,  1.08it/s]\u001b[A\n",
      "Finding reading order:  36%|███▋      | 4/11 [00:03<00:06,  1.10it/s]\u001b[A\n",
      "Finding reading order:  45%|████▌     | 5/11 [00:04<00:05,  1.10it/s]\u001b[A\n",
      "Finding reading order:  55%|█████▍    | 6/11 [00:05<00:04,  1.10it/s]\u001b[A\n",
      "Finding reading order:  64%|██████▎   | 7/11 [00:06<00:03,  1.09it/s]\u001b[A\n",
      "Finding reading order:  73%|███████▎  | 8/11 [00:07<00:02,  1.10it/s]\u001b[A\n",
      "Finding reading order:  82%|████████▏ | 9/11 [00:08<00:01,  1.11it/s]\u001b[A\n",
      "Finding reading order:  91%|█████████ | 10/11 [00:09<00:00,  1.12it/s]\u001b[A\n",
      "Finding reading order: 100%|██████████| 11/11 [00:09<00:00,  1.12it/s]\u001b[A\n",
      " 17%|█▋        | 2/12 [01:15<07:10, 43.01s/it]"
     ]
    },
    {
     "name": "stdout",
     "output_type": "stream",
     "text": [
      "\n",
      " filename: Laos.pdf \n",
      "\n",
      "../data/Laos.pdf\n"
     ]
    },
    {
     "name": "stderr",
     "output_type": "stream",
     "text": [
      "\n",
      "Detecting bboxes:   0%|          | 0/8 [00:00<?, ?it/s]\u001b[A\n",
      "Detecting bboxes:  12%|█▎        | 1/8 [00:00<00:04,  1.55it/s]\u001b[A\n",
      "Detecting bboxes:  25%|██▌       | 2/8 [00:01<00:03,  1.58it/s]\u001b[A\n",
      "Detecting bboxes:  38%|███▊      | 3/8 [00:01<00:03,  1.59it/s]\u001b[A\n",
      "Detecting bboxes:  50%|█████     | 4/8 [00:02<00:02,  1.56it/s]\u001b[A\n",
      "Detecting bboxes:  62%|██████▎   | 5/8 [00:03<00:01,  1.55it/s]\u001b[A\n",
      "Detecting bboxes:  75%|███████▌  | 6/8 [00:03<00:01,  1.54it/s]\u001b[A\n",
      "Detecting bboxes:  88%|████████▊ | 7/8 [00:04<00:00,  1.56it/s]\u001b[A\n",
      "Detecting bboxes: 100%|██████████| 8/8 [00:05<00:00,  1.55it/s]\u001b[A\n",
      "\n",
      "Detecting bboxes:   0%|          | 0/6 [00:00<?, ?it/s]\u001b[A\n",
      "Detecting bboxes:  17%|█▋        | 1/6 [00:01<00:06,  1.26s/it]\u001b[A\n",
      "Detecting bboxes:  33%|███▎      | 2/6 [00:02<00:04,  1.23s/it]\u001b[A\n",
      "Detecting bboxes:  50%|█████     | 3/6 [00:03<00:03,  1.22s/it]\u001b[A\n",
      "Detecting bboxes:  67%|██████▋   | 4/6 [00:04<00:02,  1.21s/it]\u001b[A\n",
      "Detecting bboxes:  83%|████████▎ | 5/6 [00:06<00:01,  1.22s/it]\u001b[A\n",
      "Detecting bboxes: 100%|██████████| 6/6 [00:06<00:00,  1.08s/it]\u001b[A\n",
      "\n",
      "Finding reading order:   0%|          | 0/6 [00:00<?, ?it/s]\u001b[A\n",
      "Finding reading order:  17%|█▋        | 1/6 [00:00<00:04,  1.06it/s]\u001b[A\n",
      "Finding reading order:  33%|███▎      | 2/6 [00:01<00:03,  1.07it/s]\u001b[A\n",
      "Finding reading order:  50%|█████     | 3/6 [00:02<00:02,  1.08it/s]\u001b[A\n",
      "Finding reading order:  67%|██████▋   | 4/6 [00:03<00:01,  1.09it/s]\u001b[A\n",
      "Finding reading order:  83%|████████▎ | 5/6 [00:04<00:00,  1.09it/s]\u001b[A\n",
      "Finding reading order: 100%|██████████| 6/6 [00:04<00:00,  1.22it/s]\u001b[A\n",
      " 25%|██▌       | 3/12 [01:49<05:49, 38.88s/it]"
     ]
    },
    {
     "name": "stdout",
     "output_type": "stream",
     "text": [
      "\n",
      " filename: Brunei.pdf \n",
      "\n",
      "../data/Brunei.pdf\n"
     ]
    },
    {
     "name": "stderr",
     "output_type": "stream",
     "text": [
      "\n",
      "Detecting bboxes:   0%|          | 0/4 [00:00<?, ?it/s]\u001b[A\n",
      "Detecting bboxes:  25%|██▌       | 1/4 [00:00<00:01,  1.67it/s]\u001b[A\n",
      "Detecting bboxes:  50%|█████     | 2/4 [00:01<00:01,  1.67it/s]\u001b[A\n",
      "Detecting bboxes:  75%|███████▌  | 3/4 [00:01<00:00,  1.64it/s]\u001b[A\n",
      "Detecting bboxes: 100%|██████████| 4/4 [00:02<00:00,  1.63it/s]\u001b[A\n",
      "\n",
      "Detecting bboxes:   0%|          | 0/3 [00:00<?, ?it/s]\u001b[A\n",
      "Detecting bboxes:  33%|███▎      | 1/3 [00:01<00:02,  1.19s/it]\u001b[A\n",
      "Detecting bboxes:  67%|██████▋   | 2/3 [00:02<00:01,  1.20s/it]\u001b[A\n",
      "Detecting bboxes: 100%|██████████| 3/3 [00:03<00:00,  1.05s/it]\u001b[A\n",
      "\n",
      "Finding reading order:   0%|          | 0/3 [00:00<?, ?it/s]\u001b[A\n",
      "Finding reading order:  33%|███▎      | 1/3 [00:00<00:01,  1.10it/s]\u001b[A\n",
      "Finding reading order:  67%|██████▋   | 2/3 [00:01<00:00,  1.08it/s]\u001b[A\n",
      "Finding reading order: 100%|██████████| 3/3 [00:02<00:00,  1.22it/s]\u001b[A\n",
      " 33%|███▎      | 4/12 [02:06<04:03, 30.43s/it]"
     ]
    },
    {
     "name": "stdout",
     "output_type": "stream",
     "text": [
      "\n",
      " filename: Malaysia.pdf \n",
      "\n",
      "../data/Malaysia.pdf\n"
     ]
    },
    {
     "name": "stderr",
     "output_type": "stream",
     "text": [
      "\n",
      "Detecting bboxes:   0%|          | 0/10 [00:00<?, ?it/s]\u001b[A\n",
      "Detecting bboxes:  10%|█         | 1/10 [00:00<00:05,  1.58it/s]\u001b[A\n",
      "Detecting bboxes:  20%|██        | 2/10 [00:01<00:05,  1.55it/s]\u001b[A\n",
      "Detecting bboxes:  30%|███       | 3/10 [00:01<00:04,  1.54it/s]\u001b[A\n",
      "Detecting bboxes:  40%|████      | 4/10 [00:02<00:03,  1.55it/s]\u001b[A\n",
      "Detecting bboxes:  50%|█████     | 5/10 [00:03<00:03,  1.55it/s]\u001b[A\n",
      "Detecting bboxes:  60%|██████    | 6/10 [00:03<00:02,  1.53it/s]\u001b[A\n",
      "Detecting bboxes:  70%|███████   | 7/10 [00:04<00:01,  1.53it/s]\u001b[A\n",
      "Detecting bboxes:  80%|████████  | 8/10 [00:05<00:01,  1.53it/s]\u001b[A\n",
      "Detecting bboxes:  90%|█████████ | 9/10 [00:05<00:00,  1.53it/s]\u001b[A\n",
      "Detecting bboxes: 100%|██████████| 10/10 [00:06<00:00,  1.66it/s]\u001b[A\n",
      "\n",
      "Detecting bboxes:   0%|          | 0/7 [00:00<?, ?it/s]\u001b[A\n",
      "Detecting bboxes:  14%|█▍        | 1/7 [00:01<00:07,  1.27s/it]\u001b[A\n",
      "Detecting bboxes:  29%|██▊       | 2/7 [00:02<00:06,  1.24s/it]\u001b[A\n",
      "Detecting bboxes:  43%|████▎     | 3/7 [00:03<00:04,  1.24s/it]\u001b[A\n",
      "Detecting bboxes:  57%|█████▋    | 4/7 [00:04<00:03,  1.24s/it]\u001b[A\n",
      "Detecting bboxes:  71%|███████▏  | 5/7 [00:06<00:02,  1.24s/it]\u001b[A\n",
      "Detecting bboxes:  86%|████████▌ | 6/7 [00:07<00:01,  1.24s/it]\u001b[A\n",
      "Detecting bboxes: 100%|██████████| 7/7 [00:07<00:00,  1.09s/it]\u001b[A\n",
      "\n",
      "Finding reading order:   0%|          | 0/7 [00:00<?, ?it/s]\u001b[A\n",
      "Finding reading order:  14%|█▍        | 1/7 [00:00<00:05,  1.05it/s]\u001b[A\n",
      "Finding reading order:  29%|██▊       | 2/7 [00:01<00:04,  1.06it/s]\u001b[A\n",
      "Finding reading order:  43%|████▎     | 3/7 [00:02<00:03,  1.09it/s]\u001b[A\n",
      "Finding reading order:  57%|█████▋    | 4/7 [00:03<00:02,  1.09it/s]\u001b[A\n",
      "Finding reading order:  71%|███████▏  | 5/7 [00:04<00:01,  1.10it/s]\u001b[A\n",
      "Finding reading order:  86%|████████▌ | 6/7 [00:05<00:00,  1.08it/s]\u001b[A\n",
      "Finding reading order: 100%|██████████| 7/7 [00:05<00:00,  1.22it/s]\u001b[A\n",
      " 42%|████▏     | 5/12 [02:48<03:59, 34.27s/it]"
     ]
    },
    {
     "name": "stdout",
     "output_type": "stream",
     "text": [
      "\n",
      " filename: Vietnam.pdf \n",
      "\n",
      "../data/Vietnam.pdf\n"
     ]
    },
    {
     "name": "stderr",
     "output_type": "stream",
     "text": [
      "\n",
      "Detecting bboxes:   0%|          | 0/13 [00:00<?, ?it/s]\u001b[A\n",
      "Detecting bboxes:   8%|▊         | 1/13 [00:00<00:08,  1.50it/s]\u001b[A\n",
      "Detecting bboxes:  15%|█▌        | 2/13 [00:01<00:07,  1.52it/s]\u001b[A\n",
      "Detecting bboxes:  23%|██▎       | 3/13 [00:01<00:06,  1.53it/s]\u001b[A\n",
      "Detecting bboxes:  31%|███       | 4/13 [00:02<00:05,  1.54it/s]\u001b[A\n",
      "Detecting bboxes:  38%|███▊      | 5/13 [00:03<00:05,  1.55it/s]\u001b[A\n",
      "Detecting bboxes:  46%|████▌     | 6/13 [00:03<00:04,  1.55it/s]\u001b[A\n",
      "Detecting bboxes:  54%|█████▍    | 7/13 [00:04<00:03,  1.54it/s]\u001b[A\n",
      "Detecting bboxes:  62%|██████▏   | 8/13 [00:05<00:03,  1.54it/s]\u001b[A\n",
      "Detecting bboxes:  69%|██████▉   | 9/13 [00:05<00:02,  1.53it/s]\u001b[A\n",
      "Detecting bboxes:  77%|███████▋  | 10/13 [00:06<00:01,  1.53it/s]\u001b[A\n",
      "Detecting bboxes:  85%|████████▍ | 11/13 [00:07<00:01,  1.54it/s]\u001b[A\n",
      "Detecting bboxes:  92%|█████████▏| 12/13 [00:07<00:00,  1.53it/s]\u001b[A\n",
      "Detecting bboxes: 100%|██████████| 13/13 [00:08<00:00,  1.57it/s]\u001b[A\n",
      "\n",
      "Detecting bboxes:   0%|          | 0/9 [00:00<?, ?it/s]\u001b[A\n",
      "Detecting bboxes:  11%|█         | 1/9 [00:01<00:10,  1.27s/it]\u001b[A\n",
      "Detecting bboxes:  22%|██▏       | 2/9 [00:02<00:08,  1.25s/it]\u001b[A\n",
      "Detecting bboxes:  33%|███▎      | 3/9 [00:03<00:07,  1.25s/it]\u001b[A\n",
      "Detecting bboxes:  44%|████▍     | 4/9 [00:04<00:06,  1.24s/it]\u001b[A\n",
      "Detecting bboxes:  56%|█████▌    | 5/9 [00:06<00:04,  1.24s/it]\u001b[A\n",
      "Detecting bboxes:  67%|██████▋   | 6/9 [00:07<00:03,  1.24s/it]\u001b[A\n",
      "Detecting bboxes:  78%|███████▊  | 7/9 [00:08<00:02,  1.23s/it]\u001b[A\n",
      "Detecting bboxes:  89%|████████▉ | 8/9 [00:09<00:01,  1.23s/it]\u001b[A\n",
      "Detecting bboxes: 100%|██████████| 9/9 [00:10<00:00,  1.17s/it]\u001b[A\n",
      "\n",
      "Finding reading order:   0%|          | 0/9 [00:00<?, ?it/s]\u001b[A\n",
      "Finding reading order:  11%|█         | 1/9 [00:00<00:07,  1.07it/s]\u001b[A\n",
      "Finding reading order:  22%|██▏       | 2/9 [00:01<00:06,  1.07it/s]\u001b[A\n",
      "Finding reading order:  33%|███▎      | 3/9 [00:02<00:05,  1.07it/s]\u001b[A\n",
      "Finding reading order:  44%|████▍     | 4/9 [00:03<00:04,  1.08it/s]\u001b[A\n",
      "Finding reading order:  56%|█████▌    | 5/9 [00:04<00:03,  1.07it/s]\u001b[A\n",
      "Finding reading order:  67%|██████▋   | 6/9 [00:05<00:02,  1.07it/s]\u001b[A\n",
      "Finding reading order:  78%|███████▊  | 7/9 [00:06<00:01,  1.07it/s]\u001b[A\n",
      "Finding reading order:  89%|████████▉ | 8/9 [00:07<00:00,  1.09it/s]\u001b[A\n",
      "Finding reading order: 100%|██████████| 9/9 [00:07<00:00,  1.14it/s]\u001b[A\n",
      " 50%|█████     | 6/12 [03:42<04:07, 41.31s/it]"
     ]
    },
    {
     "name": "stdout",
     "output_type": "stream",
     "text": [
      "\n",
      " filename: Cambodia.pdf \n",
      "\n",
      "../data/Cambodia.pdf\n"
     ]
    },
    {
     "name": "stderr",
     "output_type": "stream",
     "text": [
      "\n",
      "Detecting bboxes:   0%|          | 0/9 [00:00<?, ?it/s]\u001b[A\n",
      "Detecting bboxes:  11%|█         | 1/9 [00:00<00:05,  1.54it/s]\u001b[A\n",
      "Detecting bboxes:  22%|██▏       | 2/9 [00:01<00:04,  1.56it/s]\u001b[A\n",
      "Detecting bboxes:  33%|███▎      | 3/9 [00:01<00:03,  1.55it/s]\u001b[A\n",
      "Detecting bboxes:  44%|████▍     | 4/9 [00:02<00:03,  1.55it/s]\u001b[A\n",
      "Detecting bboxes:  56%|█████▌    | 5/9 [00:03<00:02,  1.55it/s]\u001b[A\n",
      "Detecting bboxes:  67%|██████▋   | 6/9 [00:03<00:01,  1.55it/s]\u001b[A\n",
      "Detecting bboxes:  78%|███████▊  | 7/9 [00:04<00:01,  1.56it/s]\u001b[A\n",
      "Detecting bboxes:  89%|████████▉ | 8/9 [00:05<00:00,  1.55it/s]\u001b[A\n",
      "Detecting bboxes: 100%|██████████| 9/9 [00:05<00:00,  1.65it/s]\u001b[A\n",
      "\n",
      "Detecting bboxes:   0%|          | 0/6 [00:00<?, ?it/s]\u001b[A\n",
      "Detecting bboxes:  17%|█▋        | 1/6 [00:01<00:06,  1.28s/it]\u001b[A\n",
      "Detecting bboxes:  33%|███▎      | 2/6 [00:02<00:04,  1.24s/it]\u001b[A\n",
      "Detecting bboxes:  50%|█████     | 3/6 [00:03<00:03,  1.23s/it]\u001b[A\n",
      "Detecting bboxes:  67%|██████▋   | 4/6 [00:04<00:02,  1.23s/it]\u001b[A\n",
      "Detecting bboxes:  83%|████████▎ | 5/6 [00:06<00:01,  1.23s/it]\u001b[A\n",
      "Detecting bboxes: 100%|██████████| 6/6 [00:06<00:00,  1.16s/it]\u001b[A\n",
      "\n",
      "Finding reading order:   0%|          | 0/6 [00:00<?, ?it/s]\u001b[A\n",
      "Finding reading order:  17%|█▋        | 1/6 [00:00<00:04,  1.05it/s]\u001b[A\n",
      "Finding reading order:  33%|███▎      | 2/6 [00:01<00:03,  1.07it/s]\u001b[A\n",
      "Finding reading order:  50%|█████     | 3/6 [00:02<00:02,  1.09it/s]\u001b[A\n",
      "Finding reading order:  67%|██████▋   | 4/6 [00:03<00:01,  1.10it/s]\u001b[A\n",
      "Finding reading order:  83%|████████▎ | 5/6 [00:04<00:00,  1.11it/s]\u001b[A\n",
      "Finding reading order: 100%|██████████| 6/6 [00:05<00:00,  1.16it/s]\u001b[A\n",
      " 58%|█████▊    | 7/12 [04:18<03:17, 39.53s/it]"
     ]
    },
    {
     "name": "stdout",
     "output_type": "stream",
     "text": [
      "\n",
      " filename: Philippines.pdf \n",
      "\n",
      "../data/Philippines.pdf\n"
     ]
    },
    {
     "name": "stderr",
     "output_type": "stream",
     "text": [
      "\n",
      "Detecting bboxes:   0%|          | 0/19 [00:00<?, ?it/s]\u001b[A\n",
      "Detecting bboxes:   5%|▌         | 1/19 [00:00<00:12,  1.44it/s]\u001b[A\n",
      "Detecting bboxes:  11%|█         | 2/19 [00:01<00:11,  1.52it/s]\u001b[A\n",
      "Detecting bboxes:  16%|█▌        | 3/19 [00:01<00:10,  1.53it/s]\u001b[A\n",
      "Detecting bboxes:  21%|██        | 4/19 [00:02<00:09,  1.53it/s]\u001b[A\n",
      "Detecting bboxes:  26%|██▋       | 5/19 [00:03<00:09,  1.54it/s]\u001b[A\n",
      "Detecting bboxes:  32%|███▏      | 6/19 [00:03<00:08,  1.54it/s]\u001b[A\n",
      "Detecting bboxes:  37%|███▋      | 7/19 [00:04<00:07,  1.54it/s]\u001b[A\n",
      "Detecting bboxes:  42%|████▏     | 8/19 [00:05<00:07,  1.54it/s]\u001b[A\n",
      "Detecting bboxes:  47%|████▋     | 9/19 [00:05<00:06,  1.54it/s]\u001b[A\n",
      "Detecting bboxes:  53%|█████▎    | 10/19 [00:06<00:05,  1.55it/s]\u001b[A\n",
      "Detecting bboxes:  58%|█████▊    | 11/19 [00:07<00:05,  1.55it/s]\u001b[A\n",
      "Detecting bboxes:  63%|██████▎   | 12/19 [00:07<00:04,  1.54it/s]\u001b[A\n",
      "Detecting bboxes:  68%|██████▊   | 13/19 [00:08<00:03,  1.55it/s]\u001b[A\n",
      "Detecting bboxes:  74%|███████▎  | 14/19 [00:09<00:03,  1.55it/s]\u001b[A\n",
      "Detecting bboxes:  79%|███████▉  | 15/19 [00:09<00:02,  1.55it/s]\u001b[A\n",
      "Detecting bboxes:  84%|████████▍ | 16/19 [00:10<00:01,  1.54it/s]\u001b[A\n",
      "Detecting bboxes:  89%|████████▉ | 17/19 [00:11<00:01,  1.55it/s]\u001b[A\n",
      "Detecting bboxes:  95%|█████████▍| 18/19 [00:11<00:00,  1.55it/s]\u001b[A\n",
      "Detecting bboxes: 100%|██████████| 19/19 [00:11<00:00,  1.61it/s]\u001b[A\n",
      "\n",
      "Detecting bboxes:   0%|          | 0/13 [00:00<?, ?it/s]\u001b[A\n",
      "Detecting bboxes:   8%|▊         | 1/13 [00:01<00:15,  1.26s/it]\u001b[A\n",
      "Detecting bboxes:  15%|█▌        | 2/13 [00:02<00:13,  1.27s/it]\u001b[A\n",
      "Detecting bboxes:  23%|██▎       | 3/13 [00:03<00:12,  1.26s/it]\u001b[A\n",
      "Detecting bboxes:  31%|███       | 4/13 [00:05<00:11,  1.25s/it]\u001b[A\n",
      "Detecting bboxes:  38%|███▊      | 5/13 [00:06<00:09,  1.24s/it]\u001b[A\n",
      "Detecting bboxes:  46%|████▌     | 6/13 [00:07<00:08,  1.24s/it]\u001b[A\n",
      "Detecting bboxes:  54%|█████▍    | 7/13 [00:08<00:07,  1.24s/it]\u001b[A\n",
      "Detecting bboxes:  62%|██████▏   | 8/13 [00:09<00:06,  1.24s/it]\u001b[A\n",
      "Detecting bboxes:  69%|██████▉   | 9/13 [00:11<00:04,  1.24s/it]\u001b[A\n",
      "Detecting bboxes:  77%|███████▋  | 10/13 [00:12<00:03,  1.26s/it]\u001b[A\n",
      "Detecting bboxes:  85%|████████▍ | 11/13 [00:13<00:02,  1.25s/it]\u001b[A\n",
      "Detecting bboxes:  92%|█████████▏| 12/13 [00:14<00:01,  1.25s/it]\u001b[A\n",
      "Detecting bboxes: 100%|██████████| 13/13 [00:15<00:00,  1.17s/it]\u001b[A\n",
      "\n",
      "Finding reading order:   0%|          | 0/13 [00:00<?, ?it/s]\u001b[A\n",
      "Finding reading order:   8%|▊         | 1/13 [00:00<00:11,  1.08it/s]\u001b[A\n",
      "Finding reading order:  15%|█▌        | 2/13 [00:01<00:10,  1.09it/s]\u001b[A\n",
      "Finding reading order:  23%|██▎       | 3/13 [00:02<00:09,  1.08it/s]\u001b[A\n",
      "Finding reading order:  31%|███       | 4/13 [00:03<00:08,  1.07it/s]\u001b[A\n",
      "Finding reading order:  38%|███▊      | 5/13 [00:04<00:07,  1.08it/s]\u001b[A\n",
      "Finding reading order:  46%|████▌     | 6/13 [00:05<00:06,  1.09it/s]\u001b[A\n",
      "Finding reading order:  54%|█████▍    | 7/13 [00:06<00:05,  1.08it/s]\u001b[A\n",
      "Finding reading order:  62%|██████▏   | 8/13 [00:07<00:04,  1.08it/s]\u001b[A\n",
      "Finding reading order:  69%|██████▉   | 9/13 [00:08<00:03,  1.09it/s]\u001b[A\n",
      "Finding reading order:  77%|███████▋  | 10/13 [00:09<00:02,  1.09it/s]\u001b[A\n",
      "Finding reading order:  85%|████████▍ | 11/13 [00:10<00:01,  1.09it/s]\u001b[A\n",
      "Finding reading order:  92%|█████████▏| 12/13 [00:11<00:00,  1.09it/s]\u001b[A\n",
      "Finding reading order: 100%|██████████| 13/13 [00:11<00:00,  1.16it/s]\u001b[A\n",
      " 67%|██████▋   | 8/12 [05:35<03:25, 51.49s/it]"
     ]
    },
    {
     "name": "stdout",
     "output_type": "stream",
     "text": [
      "\n",
      " filename: Sustainable_travel.pdf \n",
      "\n",
      "../data/Sustainable_travel.pdf\n"
     ]
    },
    {
     "name": "stderr",
     "output_type": "stream",
     "text": [
      "\n",
      "Detecting bboxes:   0%|          | 0/3 [00:00<?, ?it/s]\u001b[A\n",
      "Detecting bboxes:  33%|███▎      | 1/3 [00:00<00:01,  1.65it/s]\u001b[A\n",
      "Detecting bboxes:  67%|██████▋   | 2/3 [00:01<00:00,  1.66it/s]\u001b[A\n",
      "Detecting bboxes: 100%|██████████| 3/3 [00:01<00:00,  1.99it/s]\u001b[A\n",
      "\n",
      "Detecting bboxes:   0%|          | 0/2 [00:00<?, ?it/s]\u001b[A\n",
      "Detecting bboxes:  50%|█████     | 1/2 [00:01<00:01,  1.22s/it]\u001b[A\n",
      "Detecting bboxes: 100%|██████████| 2/2 [00:02<00:00,  1.01s/it]\u001b[A\n",
      "\n",
      "Finding reading order:   0%|          | 0/2 [00:00<?, ?it/s]\u001b[A\n",
      "Finding reading order:  50%|█████     | 1/2 [00:00<00:00,  1.06it/s]\u001b[A\n",
      "Finding reading order: 100%|██████████| 2/2 [00:01<00:00,  1.28it/s]\u001b[A\n",
      " 75%|███████▌  | 9/12 [05:48<01:57, 39.19s/it]"
     ]
    },
    {
     "name": "stdout",
     "output_type": "stream",
     "text": [
      "\n",
      " filename: Myanmar.pdf \n",
      "\n",
      "../data/Myanmar.pdf\n"
     ]
    },
    {
     "name": "stderr",
     "output_type": "stream",
     "text": [
      "\n",
      "Detecting bboxes:   0%|          | 0/9 [00:00<?, ?it/s]\u001b[A\n",
      "Detecting bboxes:  11%|█         | 1/9 [00:00<00:05,  1.46it/s]\u001b[A\n",
      "Detecting bboxes:  22%|██▏       | 2/9 [00:01<00:04,  1.53it/s]\u001b[A\n",
      "Detecting bboxes:  33%|███▎      | 3/9 [00:01<00:03,  1.54it/s]\u001b[A\n",
      "Detecting bboxes:  44%|████▍     | 4/9 [00:02<00:03,  1.54it/s]\u001b[A\n",
      "Detecting bboxes:  56%|█████▌    | 5/9 [00:03<00:02,  1.54it/s]\u001b[A\n",
      "Detecting bboxes:  67%|██████▋   | 6/9 [00:03<00:01,  1.54it/s]\u001b[A\n",
      "Detecting bboxes:  78%|███████▊  | 7/9 [00:04<00:01,  1.54it/s]\u001b[A\n",
      "Detecting bboxes:  89%|████████▉ | 8/9 [00:05<00:00,  1.54it/s]\u001b[A\n",
      "Detecting bboxes: 100%|██████████| 9/9 [00:05<00:00,  1.63it/s]\u001b[A\n",
      "\n",
      "Detecting bboxes:   0%|          | 0/6 [00:00<?, ?it/s]\u001b[A\n",
      "Detecting bboxes:  17%|█▋        | 1/6 [00:01<00:06,  1.26s/it]\u001b[A\n",
      "Detecting bboxes:  33%|███▎      | 2/6 [00:02<00:05,  1.25s/it]\u001b[A\n",
      "Detecting bboxes:  50%|█████     | 3/6 [00:03<00:03,  1.25s/it]\u001b[A\n",
      "Detecting bboxes:  67%|██████▋   | 4/6 [00:04<00:02,  1.24s/it]\u001b[A\n",
      "Detecting bboxes:  83%|████████▎ | 5/6 [00:06<00:01,  1.25s/it]\u001b[A\n",
      "Detecting bboxes: 100%|██████████| 6/6 [00:07<00:00,  1.18s/it]\u001b[A\n",
      "\n",
      "Finding reading order:   0%|          | 0/6 [00:00<?, ?it/s]\u001b[A\n",
      "Finding reading order:  17%|█▋        | 1/6 [00:00<00:04,  1.08it/s]\u001b[A\n",
      "Finding reading order:  33%|███▎      | 2/6 [00:01<00:03,  1.09it/s]\u001b[A\n",
      "Finding reading order:  50%|█████     | 3/6 [00:02<00:02,  1.06it/s]\u001b[A\n",
      "Finding reading order:  67%|██████▋   | 4/6 [00:03<00:01,  1.08it/s]\u001b[A\n",
      "Finding reading order:  83%|████████▎ | 5/6 [00:04<00:00,  1.08it/s]\u001b[A\n",
      "Finding reading order: 100%|██████████| 6/6 [00:05<00:00,  1.14it/s]\u001b[A\n",
      " 83%|████████▎ | 10/12 [06:25<01:17, 38.65s/it]"
     ]
    },
    {
     "name": "stdout",
     "output_type": "stream",
     "text": [
      "\n",
      " filename: Singapore.pdf \n",
      "\n",
      "../data/Singapore.pdf\n"
     ]
    },
    {
     "name": "stderr",
     "output_type": "stream",
     "text": [
      "\n",
      "Detecting bboxes:   0%|          | 0/20 [00:00<?, ?it/s]\u001b[A\n",
      "Detecting bboxes:   5%|▌         | 1/20 [00:00<00:13,  1.43it/s]\u001b[A\n",
      "Detecting bboxes:  10%|█         | 2/20 [00:01<00:11,  1.51it/s]\u001b[A\n",
      "Detecting bboxes:  15%|█▌        | 3/20 [00:01<00:11,  1.52it/s]\u001b[A\n",
      "Detecting bboxes:  20%|██        | 4/20 [00:02<00:10,  1.52it/s]\u001b[A\n",
      "Detecting bboxes:  25%|██▌       | 5/20 [00:03<00:09,  1.54it/s]\u001b[A\n",
      "Detecting bboxes:  30%|███       | 6/20 [00:03<00:09,  1.55it/s]\u001b[A\n",
      "Detecting bboxes:  35%|███▌      | 7/20 [00:04<00:08,  1.55it/s]\u001b[A\n",
      "Detecting bboxes:  40%|████      | 8/20 [00:05<00:07,  1.54it/s]\u001b[A\n",
      "Detecting bboxes:  45%|████▌     | 9/20 [00:05<00:07,  1.55it/s]\u001b[A\n",
      "Detecting bboxes:  50%|█████     | 10/20 [00:06<00:06,  1.55it/s]\u001b[A\n",
      "Detecting bboxes:  55%|█████▌    | 11/20 [00:07<00:05,  1.55it/s]\u001b[A\n",
      "Detecting bboxes:  60%|██████    | 12/20 [00:07<00:05,  1.55it/s]\u001b[A\n",
      "Detecting bboxes:  65%|██████▌   | 13/20 [00:08<00:04,  1.55it/s]\u001b[A\n",
      "Detecting bboxes:  70%|███████   | 14/20 [00:09<00:03,  1.55it/s]\u001b[A\n",
      "Detecting bboxes:  75%|███████▌  | 15/20 [00:09<00:03,  1.55it/s]\u001b[A\n",
      "Detecting bboxes:  80%|████████  | 16/20 [00:10<00:02,  1.56it/s]\u001b[A\n",
      "Detecting bboxes:  85%|████████▌ | 17/20 [00:10<00:01,  1.57it/s]\u001b[A\n",
      "Detecting bboxes:  90%|█████████ | 18/20 [00:11<00:01,  1.55it/s]\u001b[A\n",
      "Detecting bboxes:  95%|█████████▌| 19/20 [00:12<00:00,  1.56it/s]\u001b[A\n",
      "Detecting bboxes: 100%|██████████| 20/20 [00:12<00:00,  1.61it/s]\u001b[A\n",
      "\n",
      "Detecting bboxes:   0%|          | 0/13 [00:00<?, ?it/s]\u001b[A\n",
      "Detecting bboxes:   8%|▊         | 1/13 [00:01<00:14,  1.25s/it]\u001b[A\n",
      "Detecting bboxes:  15%|█▌        | 2/13 [00:02<00:13,  1.24s/it]\u001b[A\n",
      "Detecting bboxes:  23%|██▎       | 3/13 [00:03<00:12,  1.25s/it]\u001b[A\n",
      "Detecting bboxes:  31%|███       | 4/13 [00:04<00:11,  1.25s/it]\u001b[A\n",
      "Detecting bboxes:  38%|███▊      | 5/13 [00:06<00:09,  1.25s/it]\u001b[A\n",
      "Detecting bboxes:  46%|████▌     | 6/13 [00:07<00:08,  1.25s/it]\u001b[A\n",
      "Detecting bboxes:  54%|█████▍    | 7/13 [00:08<00:07,  1.25s/it]\u001b[A\n",
      "Detecting bboxes:  62%|██████▏   | 8/13 [00:10<00:06,  1.25s/it]\u001b[A\n",
      "Detecting bboxes:  69%|██████▉   | 9/13 [00:11<00:05,  1.25s/it]\u001b[A\n",
      "Detecting bboxes:  77%|███████▋  | 10/13 [00:12<00:03,  1.25s/it]\u001b[A\n",
      "Detecting bboxes:  85%|████████▍ | 11/13 [00:13<00:02,  1.25s/it]\u001b[A\n",
      "Detecting bboxes:  92%|█████████▏| 12/13 [00:14<00:01,  1.24s/it]\u001b[A\n",
      "Detecting bboxes: 100%|██████████| 13/13 [00:15<00:00,  1.23s/it]\u001b[A\n",
      "\n",
      "Finding reading order:   0%|          | 0/13 [00:00<?, ?it/s]\u001b[A\n",
      "Finding reading order:   8%|▊         | 1/13 [00:00<00:11,  1.05it/s]\u001b[A\n",
      "Finding reading order:  15%|█▌        | 2/13 [00:01<00:10,  1.07it/s]\u001b[A\n",
      "Finding reading order:  23%|██▎       | 3/13 [00:02<00:09,  1.10it/s]\u001b[A\n",
      "Finding reading order:  31%|███       | 4/13 [00:03<00:08,  1.11it/s]\u001b[A\n",
      "Finding reading order:  38%|███▊      | 5/13 [00:04<00:07,  1.11it/s]\u001b[A\n",
      "Finding reading order:  46%|████▌     | 6/13 [00:05<00:06,  1.10it/s]\u001b[A\n",
      "Finding reading order:  54%|█████▍    | 7/13 [00:06<00:05,  1.09it/s]\u001b[A\n",
      "Finding reading order:  62%|██████▏   | 8/13 [00:07<00:04,  1.09it/s]\u001b[A\n",
      "Finding reading order:  69%|██████▉   | 9/13 [00:08<00:03,  1.10it/s]\u001b[A\n",
      "Finding reading order:  77%|███████▋  | 10/13 [00:09<00:02,  1.10it/s]\u001b[A\n",
      "Finding reading order:  85%|████████▍ | 11/13 [00:10<00:01,  1.10it/s]\u001b[A\n",
      "Finding reading order:  92%|█████████▏| 12/13 [00:10<00:00,  1.08it/s]\u001b[A\n",
      "Finding reading order: 100%|██████████| 13/13 [00:11<00:00,  1.10it/s]\u001b[A\n",
      " 92%|█████████▏| 11/12 [07:49<00:52, 52.59s/it]"
     ]
    },
    {
     "name": "stdout",
     "output_type": "stream",
     "text": [
      "\n",
      " filename: Indonesia.pdf \n",
      "\n",
      "../data/Indonesia.pdf\n"
     ]
    },
    {
     "name": "stderr",
     "output_type": "stream",
     "text": [
      "\n",
      "Detecting bboxes:   0%|          | 0/17 [00:00<?, ?it/s]\u001b[A\n",
      "Detecting bboxes:   6%|▌         | 1/17 [00:00<00:10,  1.52it/s]\u001b[A\n",
      "Detecting bboxes:  12%|█▏        | 2/17 [00:01<00:09,  1.57it/s]\u001b[A\n",
      "Detecting bboxes:  18%|█▊        | 3/17 [00:01<00:08,  1.58it/s]\u001b[A\n",
      "Detecting bboxes:  24%|██▎       | 4/17 [00:02<00:08,  1.57it/s]\u001b[A\n",
      "Detecting bboxes:  29%|██▉       | 5/17 [00:03<00:07,  1.56it/s]\u001b[A\n",
      "Detecting bboxes:  35%|███▌      | 6/17 [00:03<00:07,  1.54it/s]\u001b[A\n",
      "Detecting bboxes:  41%|████      | 7/17 [00:04<00:06,  1.53it/s]\u001b[A\n",
      "Detecting bboxes:  47%|████▋     | 8/17 [00:05<00:05,  1.55it/s]\u001b[A\n",
      "Detecting bboxes:  53%|█████▎    | 9/17 [00:05<00:05,  1.53it/s]\u001b[A\n",
      "Detecting bboxes:  59%|█████▉    | 10/17 [00:06<00:04,  1.52it/s]\u001b[A\n",
      "Detecting bboxes:  65%|██████▍   | 11/17 [00:07<00:03,  1.52it/s]\u001b[A\n",
      "Detecting bboxes:  71%|███████   | 12/17 [00:07<00:03,  1.52it/s]\u001b[A\n",
      "Detecting bboxes:  76%|███████▋  | 13/17 [00:08<00:02,  1.52it/s]\u001b[A\n",
      "Detecting bboxes:  82%|████████▏ | 14/17 [00:09<00:01,  1.51it/s]\u001b[A\n",
      "Detecting bboxes:  88%|████████▊ | 15/17 [00:09<00:01,  1.51it/s]\u001b[A\n",
      "Detecting bboxes:  94%|█████████▍| 16/17 [00:10<00:00,  1.51it/s]\u001b[A\n",
      "Detecting bboxes: 100%|██████████| 17/17 [00:11<00:00,  1.53it/s]\u001b[A\n",
      "\n",
      "Detecting bboxes:   0%|          | 0/12 [00:00<?, ?it/s]\u001b[A\n",
      "Detecting bboxes:   8%|▊         | 1/12 [00:01<00:13,  1.26s/it]\u001b[A\n",
      "Detecting bboxes:  17%|█▋        | 2/12 [00:02<00:12,  1.25s/it]\u001b[A\n",
      "Detecting bboxes:  25%|██▌       | 3/12 [00:03<00:11,  1.24s/it]\u001b[A\n",
      "Detecting bboxes:  33%|███▎      | 4/12 [00:04<00:09,  1.23s/it]\u001b[A\n",
      "Detecting bboxes:  42%|████▏     | 5/12 [00:06<00:08,  1.23s/it]\u001b[A\n",
      "Detecting bboxes:  50%|█████     | 6/12 [00:07<00:07,  1.23s/it]\u001b[A\n",
      "Detecting bboxes:  58%|█████▊    | 7/12 [00:08<00:06,  1.24s/it]\u001b[A\n",
      "Detecting bboxes:  67%|██████▋   | 8/12 [00:09<00:04,  1.24s/it]\u001b[A\n",
      "Detecting bboxes:  75%|███████▌  | 9/12 [00:11<00:03,  1.24s/it]\u001b[A\n",
      "Detecting bboxes:  83%|████████▎ | 10/12 [00:12<00:02,  1.24s/it]\u001b[A\n",
      "Detecting bboxes:  92%|█████████▏| 11/12 [00:13<00:01,  1.23s/it]\u001b[A\n",
      "Detecting bboxes: 100%|██████████| 12/12 [00:14<00:00,  1.17s/it]\u001b[A\n",
      "\n",
      "Finding reading order:   0%|          | 0/12 [00:00<?, ?it/s]\u001b[A\n",
      "Finding reading order:   8%|▊         | 1/12 [00:00<00:10,  1.08it/s]\u001b[A\n",
      "Finding reading order:  17%|█▋        | 2/12 [00:01<00:09,  1.10it/s]\u001b[A\n",
      "Finding reading order:  25%|██▌       | 3/12 [00:02<00:08,  1.09it/s]\u001b[A\n",
      "Finding reading order:  33%|███▎      | 4/12 [00:03<00:07,  1.10it/s]\u001b[A\n",
      "Finding reading order:  42%|████▏     | 5/12 [00:04<00:06,  1.12it/s]\u001b[A\n",
      "Finding reading order:  50%|█████     | 6/12 [00:05<00:05,  1.12it/s]\u001b[A\n",
      "Finding reading order:  58%|█████▊    | 7/12 [00:06<00:04,  1.10it/s]\u001b[A\n",
      "Finding reading order:  67%|██████▋   | 8/12 [00:07<00:03,  1.11it/s]\u001b[A\n",
      "Finding reading order:  75%|███████▌  | 9/12 [00:08<00:02,  1.11it/s]\u001b[A\n",
      "Finding reading order:  83%|████████▎ | 10/12 [00:09<00:01,  1.11it/s]\u001b[A\n",
      "Finding reading order:  92%|█████████▏| 11/12 [00:09<00:00,  1.11it/s]\u001b[A\n",
      "Finding reading order: 100%|██████████| 12/12 [00:10<00:00,  1.17it/s]\u001b[A\n",
      "100%|██████████| 12/12 [09:03<00:00, 45.25s/it]\n"
     ]
    }
   ],
   "source": [
    "documents = []\n",
    "\n",
    "for filename in tqdm(filenames):\n",
    "\n",
    "    print(\"\\n filename: {} \\n\".format(filename))\n",
    "\n",
    "    splitted_doc = download_and_process_pdf_file(\n",
    "        filename, text_splitter, markdown_splitter, model_lst, reference_folder=\"../data/\"\n",
    "    )\n",
    "    \n",
    "    documents.append(splitted_doc)\n",
    "    "
   ]
  },
  {
   "cell_type": "code",
   "execution_count": 9,
   "id": "aa310645-34db-4a66-9aae-2c5623c7529e",
   "metadata": {
    "tags": []
   },
   "outputs": [],
   "source": [
    "# save the documents object into a pickle file to avoid computing it again\n",
    "with open(\"../data/docs_processed.pickle\", \"wb\") as f:\n",
    "    pickle.dump(documents, f)"
   ]
  },
  {
   "cell_type": "code",
   "execution_count": 10,
   "id": "ea99f9c4-f846-4c00-b01b-ea36b417bba9",
   "metadata": {
    "tags": []
   },
   "outputs": [
    {
     "data": {
      "text/plain": [
       "12"
      ]
     },
     "execution_count": 10,
     "metadata": {},
     "output_type": "execute_result"
    }
   ],
   "source": [
    "len(documents)"
   ]
  },
  {
   "cell_type": "code",
   "execution_count": 12,
   "id": "9697f41d-4ab8-42cc-b627-f7df3f3dd2fb",
   "metadata": {
    "tags": []
   },
   "outputs": [],
   "source": [
    "flattened_list = [item for sublist in documents for item in sublist]"
   ]
  },
  {
   "cell_type": "code",
   "execution_count": 13,
   "id": "bbb7427a-7e8b-4af3-b0c5-b09ca1a8c4ec",
   "metadata": {
    "tags": []
   },
   "outputs": [
    {
     "data": {
      "text/plain": [
       "{'metadata': {'document_id': 'f392923b41',\n",
       "  'pdf_name': 'Responsible_travel.pdf',\n",
       "  'pdf_part': 0,\n",
       "  'Header 2': 'Responsible Travel'},\n",
       " 'content': 'See Sustainable travel for the ecological and appropriate technology dimension of travel sustainability.'}"
      ]
     },
     "execution_count": 13,
     "metadata": {},
     "output_type": "execute_result"
    }
   ],
   "source": [
    "flattened_list[0]"
   ]
  },
  {
   "cell_type": "code",
   "execution_count": 14,
   "id": "c2f2f784-8ba5-4c29-af21-e2daab33bdc5",
   "metadata": {
    "tags": []
   },
   "outputs": [],
   "source": [
    "# save the documents object into a pickle file to avoid computing it again\n",
    "with open(\"../data/docs_processed.pickle\", \"wb\") as f:\n",
    "    pickle.dump(flattened_list, f)"
   ]
  },
  {
   "cell_type": "code",
   "execution_count": null,
   "id": "ba08420b-d2d2-4b66-b420-3f35cfd6b694",
   "metadata": {},
   "outputs": [],
   "source": []
  }
 ],
 "metadata": {
  "kernelspec": {
   "display_name": "venv_travel",
   "language": "python",
   "name": "venv_travel"
  },
  "language_info": {
   "codemirror_mode": {
    "name": "ipython",
    "version": 3
   },
   "file_extension": ".py",
   "mimetype": "text/x-python",
   "name": "python",
   "nbconvert_exporter": "python",
   "pygments_lexer": "ipython3",
   "version": "3.10.8"
  },
  "toc": {
   "base_numbering": 1,
   "nav_menu": {
    "height": "170px",
    "width": "344px"
   },
   "number_sections": true,
   "sideBar": true,
   "skip_h1_title": false,
   "title_cell": "Table of Contents",
   "title_sidebar": "Contents",
   "toc_cell": false,
   "toc_position": {},
   "toc_section_display": true,
   "toc_window_display": false
  },
  "varInspector": {
   "cols": {
    "lenName": 16,
    "lenType": 16,
    "lenVar": 40
   },
   "kernels_config": {
    "python": {
     "delete_cmd_postfix": "",
     "delete_cmd_prefix": "del ",
     "library": "var_list.py",
     "varRefreshCmd": "print(var_dic_list())"
    },
    "r": {
     "delete_cmd_postfix": ") ",
     "delete_cmd_prefix": "rm(",
     "library": "var_list.r",
     "varRefreshCmd": "cat(var_dic_list()) "
    }
   },
   "types_to_exclude": [
    "module",
    "function",
    "builtin_function_or_method",
    "instance",
    "_Feature"
   ],
   "window_display": false
  }
 },
 "nbformat": 4,
 "nbformat_minor": 5
}
