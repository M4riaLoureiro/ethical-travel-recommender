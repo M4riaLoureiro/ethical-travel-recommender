{
 "cells": [
  {
   "cell_type": "markdown",
   "id": "5992b1f2-2be3-4b18-9a72-3cb53f67075a",
   "metadata": {},
   "source": [
    "# Process PDF Documents"
   ]
  },
  {
   "cell_type": "code",
   "execution_count": null,
   "id": "e2b4f8d1",
   "metadata": {
    "tags": []
   },
   "outputs": [],
   "source": [
    "import hashlib\n",
    "import os\n",
    "import pickle\n",
    "\n",
    "from langchain_text_splitters import (\n",
    "    MarkdownHeaderTextSplitter,\n",
    "    RecursiveCharacterTextSplitter,\n",
    ")\n",
    "from marker.convert import convert_single_pdf\n",
    "from marker.logger import configure_logging\n",
    "from marker.models import load_all_models\n",
    "from tqdm import tqdm"
   ]
  },
  {
   "cell_type": "markdown",
   "id": "0b20ca60",
   "metadata": {},
   "source": [
    "## Download files and process pdf files with marker converter (.pdf -> .md)"
   ]
  },
  {
   "cell_type": "markdown",
   "id": "4a6effd7",
   "metadata": {},
   "source": [
    "https://github.com/VikParuchuri/marker?tab=readme-ov-file"
   ]
  },
  {
   "cell_type": "code",
   "execution_count": null,
   "id": "a22d7c00-d08c-4838-9061-247bd64fc91d",
   "metadata": {
    "tags": []
   },
   "outputs": [],
   "source": [
    "def parse_file_name(filename):\n",
    "    # Remove space and dots on filename\n",
    "    if filename.endswith(\".pdf\"):\n",
    "        name_part = filename[:-4]\n",
    "        name_part = name_part.replace(\" \", \"\").replace(\".\", \"\")\n",
    "        cleaned_filename = name_part + \".pdf\"\n",
    "    else:\n",
    "        cleaned_filename = filename.replace(\" \", \"\").replace(\".\", \"\")\n",
    "    return cleaned_filename"
   ]
  },
  {
   "cell_type": "code",
   "execution_count": null,
   "id": "b25a4104-858b-4e39-8295-7e3a79b3f31a",
   "metadata": {
    "tags": []
   },
   "outputs": [],
   "source": [
    "def convert_pdf_to_markdown(fname, reference_folder, model_lst, md_out_path=None):\n",
    "\n",
    "    md_filename = fname.rsplit(\".\", 1)[0] + \".md\"\n",
    "\n",
    "    pdf_filename = os.path.join(reference_folder, fname)\n",
    "\n",
    "    full_text, _, _ = convert_single_pdf(pdf_filename, model_lst, batch_multiplier=1)\n",
    "\n",
    "    if md_out_path:\n",
    "        with open(os.path.join(md_out_path, md_filename), \"w+\") as f:\n",
    "            f.write(full_text)\n",
    "    else:\n",
    "        return full_text"
   ]
  },
  {
   "cell_type": "code",
   "execution_count": null,
   "id": "00ce0655-3316-402d-9926-c03636cbaf23",
   "metadata": {
    "tags": []
   },
   "outputs": [],
   "source": [
    "def download_and_process_pdf_file(\n",
    "    f_key, text_splitter, markdown_splitter, reference_folder=\"../data/\"\n",
    "):\n",
    "\n",
    "    temp_file_name = parse_file_name(f_key)\n",
    "    temp_file_path = os.path.join(reference_folder, temp_file_name)\n",
    "\n",
    "    mdfile = convert_pdf_to_markdown(temp_file_name, reference_folder, None)\n",
    "\n",
    "    md_header_split = markdown_splitter.split_text(mdfile)\n",
    "\n",
    "    documents = []\n",
    "    for split in md_header_split:\n",
    "\n",
    "        split_texts = text_splitter.split_text(split.page_content)\n",
    "\n",
    "        for i, split_text in enumerate(split_texts):\n",
    "\n",
    "            document_id = f\"{f_key}_part_{i}\"\n",
    "            hash_object = hashlib.md5(document_id.encode())\n",
    "            hash_hex = hash_object.hexdigest()\n",
    "            document_id = hash_hex[:10]\n",
    "\n",
    "            metadata_dict = {\n",
    "                \"document_id\": document_id,\n",
    "                \"pdf_name\": f_key,\n",
    "                \"pdf_part\": i,\n",
    "            }\n",
    "\n",
    "            metadata_dict.update(split.metadata)\n",
    "\n",
    "            documents.append({\"metadata\": metadata_dict, \"content\": split_text})"
   ]
  },
  {
   "cell_type": "markdown",
   "id": "13288257-081a-4d13-bd1e-a7bf24cceb94",
   "metadata": {},
   "source": [
    "List files in folder"
   ]
  },
  {
   "cell_type": "code",
   "execution_count": 5,
   "id": "0b8b5147",
   "metadata": {},
   "outputs": [
    {
     "name": "stdout",
     "output_type": "stream",
     "text": [
      "Number of PDFs read: 12\n"
     ]
    }
   ],
   "source": [
    "import os\n",
    "\n",
    "\n",
    "def list_pdf_files(directory_path):\n",
    "    \"\"\"\n",
    "    Lists all PDF files in the given directory and attempts to read them as binary data.\n",
    "\n",
    "    Parameters:\n",
    "        directory_path (str): The path to the directory containing PDF files.\n",
    "\n",
    "    Returns:\n",
    "        dict: A dictionary where keys are filenames and values are raw binary content or text content (if readable).\n",
    "    \"\"\"\n",
    "    pdf_files_content = {}\n",
    "\n",
    "    # Check if the directory exists\n",
    "    if not os.path.isdir(directory_path):\n",
    "        print(f\"The directory '{directory_path}' does not exist.\")\n",
    "        return pdf_files_content\n",
    "\n",
    "    filenames = os.listdir(directory_path)\n",
    "\n",
    "    return filenames\n",
    "\n",
    "\n",
    "# Usage example\n",
    "directory = \"../data/\"  # Replace with your directory path\n",
    "filenames = list_pdf_files(directory)\n",
    "print(f\"Number of PDFs read: {len(filenames)}\")"
   ]
  },
  {
   "cell_type": "code",
   "execution_count": 6,
   "id": "7a0d5165",
   "metadata": {
    "tags": []
   },
   "outputs": [],
   "source": [
    "test_pdf_keys_selection = filenames[:4]"
   ]
  },
  {
   "cell_type": "markdown",
   "id": "57760d08-5e0b-4bcb-930d-4eeca15a4071",
   "metadata": {},
   "source": [
    "Setup marker class for converting pdf to markdown"
   ]
  },
  {
   "cell_type": "code",
   "execution_count": null,
   "id": "68896759-5ec9-432a-9e90-09ac127de930",
   "metadata": {
    "scrolled": true,
    "tags": []
   },
   "outputs": [],
   "source": [
    "configure_logging()\n",
    "model_lst = load_all_models()\n",
    "\n",
    "reference_folder = \"./\""
   ]
  },
  {
   "cell_type": "markdown",
   "id": "e05dc25a-e5b0-4e83-8a7e-d830a85bac6d",
   "metadata": {},
   "source": [
    "Setup process splitters"
   ]
  },
  {
   "cell_type": "code",
   "execution_count": null,
   "id": "761d54ae",
   "metadata": {
    "ExecuteTime": {
     "end_time": "2024-08-06T16:05:43.213260Z",
     "start_time": "2024-08-06T16:05:43.205942Z"
    },
    "tags": []
   },
   "outputs": [],
   "source": [
    "headers_to_split_on = [\n",
    "    (\"#\", \"Header 1\"),\n",
    "    (\"##\", \"Header 2\"),\n",
    "    (\"###\", \"Header 3\"),\n",
    "]\n",
    "chunk_size = 1000\n",
    "chunk_overlap = 100\n",
    "text_splitter = RecursiveCharacterTextSplitter(\n",
    "    chunk_size=chunk_size, chunk_overlap=chunk_overlap\n",
    ")\n",
    "markdown_splitter = MarkdownHeaderTextSplitter(headers_to_split_on=headers_to_split_on)"
   ]
  },
  {
   "cell_type": "code",
   "execution_count": null,
   "id": "b1760562-db2e-4543-b03f-46c6022f12b3",
   "metadata": {},
   "outputs": [],
   "source": [
    "documents = []\n",
    "\n",
    "for filename in tqdm(test_pdf_keys_selection):\n",
    "\n",
    "    print(\"\\n filename: {} \\n\".format(filename))\n",
    "\n",
    "    download_and_process_pdf_file(\n",
    "        filename, text_splitter, markdown_splitter, reference_folder=\"../data/\"\n",
    "    )"
   ]
  },
  {
   "cell_type": "code",
   "execution_count": null,
   "id": "aa310645-34db-4a66-9aae-2c5623c7529e",
   "metadata": {
    "tags": []
   },
   "outputs": [],
   "source": [
    "# save the documents object into a pickle file to avoid computing it again\n",
    "with open(\"../data/docs_processed.pickle\", \"wb\") as f:\n",
    "    pickle.dump(documents, f)"
   ]
  }
 ],
 "metadata": {
  "kernelspec": {
   "display_name": "venv",
   "language": "python",
   "name": "venv"
  },
  "language_info": {
   "codemirror_mode": {
    "name": "ipython",
    "version": 3
   },
   "file_extension": ".py",
   "mimetype": "text/x-python",
   "name": "python",
   "nbconvert_exporter": "python",
   "pygments_lexer": "ipython3",
   "version": "3.12.4"
  },
  "toc": {
   "base_numbering": 1,
   "nav_menu": {
    "height": "170px",
    "width": "344px"
   },
   "number_sections": true,
   "sideBar": true,
   "skip_h1_title": false,
   "title_cell": "Table of Contents",
   "title_sidebar": "Contents",
   "toc_cell": false,
   "toc_position": {},
   "toc_section_display": true,
   "toc_window_display": false
  },
  "varInspector": {
   "cols": {
    "lenName": 16,
    "lenType": 16,
    "lenVar": 40
   },
   "kernels_config": {
    "python": {
     "delete_cmd_postfix": "",
     "delete_cmd_prefix": "del ",
     "library": "var_list.py",
     "varRefreshCmd": "print(var_dic_list())"
    },
    "r": {
     "delete_cmd_postfix": ") ",
     "delete_cmd_prefix": "rm(",
     "library": "var_list.r",
     "varRefreshCmd": "cat(var_dic_list()) "
    }
   },
   "types_to_exclude": [
    "module",
    "function",
    "builtin_function_or_method",
    "instance",
    "_Feature"
   ],
   "window_display": false
  }
 },
 "nbformat": 4,
 "nbformat_minor": 5
}
