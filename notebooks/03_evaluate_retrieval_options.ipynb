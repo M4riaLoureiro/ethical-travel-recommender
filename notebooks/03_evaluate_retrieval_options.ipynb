{
 "cells": [
  {
   "cell_type": "markdown",
   "id": "5992b1f2-2be3-4b18-9a72-3cb53f67075a",
   "metadata": {},
   "source": [
    "# Evaluate Retrieval System"
   ]
  },
  {
   "cell_type": "markdown",
   "id": "1e12b01c-f926-477e-b7d6-03c51fd06c84",
   "metadata": {},
   "source": [
    "In this notebook different model embeddings and vector storages will be tested.\n",
    "\n",
    "The ground truth questions loaded here were created using the 02_generate_ground_truth notebook."
   ]
  },
  {
   "cell_type": "markdown",
   "id": "0b20ca60",
   "metadata": {},
   "source": [
    "## Import main libraries"
   ]
  },
  {
   "cell_type": "code",
   "execution_count": 1,
   "id": "9d501557-369f-4343-a5ca-bfcecd617d1f",
   "metadata": {
    "ExecuteTime": {
     "end_time": "2024-08-06T09:47:23.816503Z",
     "start_time": "2024-08-06T09:47:23.812697Z"
    },
    "tags": []
   },
   "outputs": [
    {
     "name": "stderr",
     "output_type": "stream",
     "text": [
      "/var/folders/p_/s9hnpq0x4z9clssr4xm3thgw0000gn/T/ipykernel_14596/1450028344.py:10: TqdmWarning: IProgress not found. Please update jupyter and ipywidgets. See https://ipywidgets.readthedocs.io/en/stable/user_install.html\n",
      "  from tqdm.autonotebook import tqdm\n"
     ]
    }
   ],
   "source": [
    "import pickle\n",
    "import json\n",
    "import os\n",
    "import pickle\n",
    "from langchain_community.docstore.document import Document\n",
    "from langchain.vectorstores import Chroma\n",
    "from langchain.embeddings import HuggingFaceBgeEmbeddings\n",
    "import minsearch\n",
    "from llama_index.core.schema import TextNode\n",
    "from tqdm.autonotebook import tqdm\n",
    "from llama_index.core import Document, Settings, StorageContext, VectorStoreIndex\n",
    "from llama_index.embeddings.huggingface import HuggingFaceEmbedding\n",
    "from llama_index.vector_stores.postgres import PGVectorStore\n",
    "from langchain_huggingface import HuggingFaceEmbeddings\n",
    "from dotenv import load_dotenv\n",
    "from tqdm.autonotebook import tqdm\n",
    "import sys\n",
    "import os\n",
    "import pandas as pd\n",
    "import pickle\n",
    "\n",
    "load_dotenv()\n",
    "\n",
    "project_dir = os.path.abspath(os.path.join(os.getcwd(), os.pardir))\n",
    "sys.path.insert(0, os.path.join(project_dir, \"utils\"))"
   ]
  },
  {
   "cell_type": "markdown",
   "id": "078270a2",
   "metadata": {},
   "source": [
    "## Load data to build retriever system"
   ]
  },
  {
   "cell_type": "code",
   "execution_count": 2,
   "id": "8e9283a5-888e-4a4a-a587-03bcc8fde9a3",
   "metadata": {
    "ExecuteTime": {
     "end_time": "2024-08-06T09:47:34.621714Z",
     "start_time": "2024-08-06T09:47:34.482890Z"
    },
    "tags": []
   },
   "outputs": [],
   "source": [
    "with open(\"../data/docs_processed.pickle\", \"rb\") as f:\n",
    "    documents = pickle.load(f)"
   ]
  },
  {
   "cell_type": "code",
   "execution_count": 3,
   "id": "76217d86-5e82-42c2-810d-41e75a17425c",
   "metadata": {
    "tags": []
   },
   "outputs": [
    {
     "data": {
      "text/plain": [
       "4428"
      ]
     },
     "execution_count": 3,
     "metadata": {},
     "output_type": "execute_result"
    }
   ],
   "source": [
    "len(documents)"
   ]
  },
  {
   "cell_type": "code",
   "execution_count": 4,
   "id": "7e620ded-5c61-4130-a89d-61501493578c",
   "metadata": {
    "ExecuteTime": {
     "end_time": "2024-08-06T13:37:47.534100Z",
     "start_time": "2024-08-06T13:37:47.529849Z"
    },
    "scrolled": true,
    "tags": []
   },
   "outputs": [
    {
     "data": {
      "text/plain": [
       "{'metadata': {'document_id': '301ee2b109',\n",
       "  'pdf_name': 'Responsible_travel.pdf',\n",
       "  'pdf_part': 1,\n",
       "  'Header 2': 'Economic Impact'},\n",
       " 'content': 'Cultural **impact** Environmental impact See also: Sustainable travel Climate change Overtourism\\n\"They took all the trees, put \\'em in a tree museum, And they charged the people a dollar and a half just to see \\'em. Don\\'t it always seem to go That you don\\'t know what you\\'ve got till it\\'s gone?  \\nThey paved paradise and put up a parking lot. \"  \\n![1_image_0.png](1_image_0.png)'}"
      ]
     },
     "execution_count": 4,
     "metadata": {},
     "output_type": "execute_result"
    }
   ],
   "source": [
    "documents[10]"
   ]
  },
  {
   "cell_type": "markdown",
   "id": "5f5c5232",
   "metadata": {},
   "source": [
    "## Load ground truth documents from pickle"
   ]
  },
  {
   "cell_type": "code",
   "execution_count": 5,
   "id": "6def739b",
   "metadata": {},
   "outputs": [],
   "source": [
    "model_name = \"gpt-4o\"  # \"phi3\"\n",
    "with open(\"../data/GT_docs_{}.bin\".format(model_name), \"rb\") as file:\n",
    "    ground_truth = pickle.load(file)"
   ]
  },
  {
   "cell_type": "code",
   "execution_count": 6,
   "id": "b7e46be0",
   "metadata": {},
   "outputs": [
    {
     "name": "stdout",
     "output_type": "stream",
     "text": [
      "774afd330e\n",
      "774afd330e\n",
      "774afd330e\n",
      "774afd330e\n"
     ]
    }
   ],
   "source": [
    "unsucessfull_parses = set()\n",
    "\n",
    "for gt in ground_truth:\n",
    "    try:\n",
    "        questions_list = json.loads(gt[\"ground_truth\"])\n",
    "        gt[\"ground_truth\"] = questions_list\n",
    "    except:\n",
    "        print(gt[\"metadata\"][\"document_id\"])\n",
    "        unsucessfull_parses.add(gt[\"metadata\"][\"document_id\"])"
   ]
  },
  {
   "cell_type": "code",
   "execution_count": 7,
   "id": "f9e7421c",
   "metadata": {},
   "outputs": [],
   "source": [
    "for doc in documents:\n",
    "    for key in doc[\"metadata\"].keys():\n",
    "        doc[key] = doc[\"metadata\"][key]"
   ]
  },
  {
   "cell_type": "code",
   "execution_count": 8,
   "id": "3ea28edf",
   "metadata": {},
   "outputs": [
    {
     "data": {
      "text/plain": [
       "4428"
      ]
     },
     "execution_count": 8,
     "metadata": {},
     "output_type": "execute_result"
    }
   ],
   "source": [
    "len(ground_truth)"
   ]
  },
  {
   "cell_type": "code",
   "execution_count": 9,
   "id": "968f74ed",
   "metadata": {},
   "outputs": [],
   "source": [
    "# Step 1: Flatten the dictionary and remove 'metadata'\n",
    "flattened_gt_list = []\n",
    "for gt in ground_truth:\n",
    "    # Create a new dictionary with all keys from 'metadata' moved to the top level\n",
    "    flattened_dict = {**gt[\"metadata\"], \"content\": gt[\"content\"]}\n",
    "\n",
    "    # Step 2: Create a new list of dictionaries with individual questions\n",
    "    for question in gt[\"ground_truth\"]:\n",
    "        # For each question, create a new dictionary with 'question' and other data\n",
    "        question_dict = {**flattened_dict, \"question\": question}\n",
    "        flattened_gt_list.append(question_dict)"
   ]
  },
  {
   "cell_type": "code",
   "execution_count": 10,
   "id": "f57394cf",
   "metadata": {},
   "outputs": [
    {
     "data": {
      "text/plain": [
       "19408"
      ]
     },
     "execution_count": 10,
     "metadata": {},
     "output_type": "execute_result"
    }
   ],
   "source": [
    "len(flattened_gt_list)"
   ]
  },
  {
   "cell_type": "code",
   "execution_count": 11,
   "id": "1bac8668",
   "metadata": {},
   "outputs": [
    {
     "data": {
      "text/plain": [
       "{'document_id': '69d0cddd8b',\n",
       " 'pdf_name': 'Responsible_travel.pdf',\n",
       " 'pdf_part': 11,\n",
       " 'Header 2': 'By Plane',\n",
       " 'content': 'Lufthansa (https://www.lufthansa.com/us/en/offset-flight), Qantas (http://www.qantas.com.au/travel/airlines/fly-carbon-neutral/global/en), & United Airlines (http:// www.united.com/web/en-US/content/company/globalcitizenship/environment_faq.aspx).',\n",
       " 'question': 'What are ways to offset my carbon footprint when flying to Southeast Asia?'}"
      ]
     },
     "execution_count": 11,
     "metadata": {},
     "output_type": "execute_result"
    }
   ],
   "source": [
    "flattened_gt_list[100]"
   ]
  },
  {
   "cell_type": "code",
   "execution_count": 37,
   "id": "fac4f14a",
   "metadata": {},
   "outputs": [],
   "source": [
    "with open(\"../data/GT_docs_parsed_{}.bin\".format(model_name), \"wb\") as file:\n",
    "    pickle.dump(flattened_gt_list, file)"
   ]
  },
  {
   "cell_type": "markdown",
   "id": "ea1b867c-9eaa-45c5-a891-7d0de63bbec8",
   "metadata": {},
   "source": [
    "## Define evaluation metrics"
   ]
  },
  {
   "cell_type": "code",
   "execution_count": 30,
   "id": "5ac7a07a-f378-48c7-8046-bfd804572e8c",
   "metadata": {
    "tags": []
   },
   "outputs": [],
   "source": [
    "def hit_rate(relevance_total):\n",
    "    cnt = 0\n",
    "\n",
    "    for line in relevance_total:\n",
    "        if True in line:\n",
    "            cnt = cnt + 1\n",
    "\n",
    "    return cnt / len(relevance_total)\n",
    "\n",
    "\n",
    "def mrr(relevance_total):\n",
    "    total_score = 0.0\n",
    "\n",
    "    for line in relevance_total:\n",
    "        for rank in range(len(line)):\n",
    "            if line[rank] == True:\n",
    "                total_score = total_score + 1 / (rank + 1)\n",
    "\n",
    "    return total_score / len(relevance_total)"
   ]
  },
  {
   "cell_type": "markdown",
   "id": "edbc9962",
   "metadata": {},
   "source": [
    "## Build Min Search"
   ]
  },
  {
   "cell_type": "code",
   "execution_count": 39,
   "id": "d0a30219",
   "metadata": {},
   "outputs": [
    {
     "data": {
      "text/plain": [
       "{'metadata': {'document_id': 'f392923b41',\n",
       "  'pdf_name': 'Responsible_travel.pdf',\n",
       "  'pdf_part': 0,\n",
       "  'Header 2': 'Responsible Travel'},\n",
       " 'content': 'See Sustainable travel for the ecological and appropriate technology dimension of travel sustainability.',\n",
       " 'ground_truth': ['What are some eco-friendly accommodations in Southeast Asia?',\n",
       "  'How can I minimize my ecological footprint while traveling in Southeast Asia?',\n",
       "  'What are the best practices for responsible tourism in Southeast Asia?',\n",
       "  'Are there any community-based tourism projects I can support in Southeast Asia?']}"
      ]
     },
     "execution_count": 39,
     "metadata": {},
     "output_type": "execute_result"
    }
   ],
   "source": [
    "ground_truth[0]"
   ]
  },
  {
   "cell_type": "code",
   "execution_count": 40,
   "id": "b78931bf",
   "metadata": {},
   "outputs": [
    {
     "data": {
      "text/plain": [
       "{'metadata': {'document_id': 'f392923b41',\n",
       "  'pdf_name': 'Responsible_travel.pdf',\n",
       "  'pdf_part': 0,\n",
       "  'Header 2': 'Responsible Travel'},\n",
       " 'content': 'See Sustainable travel for the ecological and appropriate technology dimension of travel sustainability.',\n",
       " 'document_id': 'f392923b41',\n",
       " 'pdf_name': 'Responsible_travel.pdf',\n",
       " 'pdf_part': 0,\n",
       " 'Header 2': 'Responsible Travel'}"
      ]
     },
     "execution_count": 40,
     "metadata": {},
     "output_type": "execute_result"
    }
   ],
   "source": [
    "documents[0]"
   ]
  },
  {
   "cell_type": "code",
   "execution_count": 41,
   "id": "d3ff1588",
   "metadata": {},
   "outputs": [
    {
     "data": {
      "text/plain": [
       "<minsearch.minsearch.Index at 0x1699c7bc0>"
      ]
     },
     "execution_count": 41,
     "metadata": {},
     "output_type": "execute_result"
    }
   ],
   "source": [
    "index = minsearch.Index(\n",
    "    text_fields=[\"content\", \"Header 2\"],\n",
    "    keyword_fields=[\"pdf_name\", \"document_id\"],\n",
    ")\n",
    "\n",
    "index.fit(documents)"
   ]
  },
  {
   "cell_type": "code",
   "execution_count": 62,
   "id": "69926f95",
   "metadata": {},
   "outputs": [],
   "source": [
    "def minsearch_search(query, pdf_name):\n",
    "\n",
    "    boost = {\"content\": 3.0, \"Header 2\": 2}\n",
    "\n",
    "    results = index.search(\n",
    "        query=query, filter_dict={\"pdf_name\": pdf_name}, boost_dict=boost, num_results=4\n",
    "    )\n",
    "\n",
    "    return results"
   ]
  },
  {
   "cell_type": "code",
   "execution_count": 63,
   "id": "7a0488e0",
   "metadata": {},
   "outputs": [
    {
     "name": "stderr",
     "output_type": "stream",
     "text": [
      "100%|██████████| 19408/19408 [00:30<00:00, 642.45it/s]\n"
     ]
    }
   ],
   "source": [
    "relevance_total = []\n",
    "\n",
    "for q in tqdm(flattened_gt_list):\n",
    "    doc_id = q[\"document_id\"]\n",
    "    results = minsearch_search(query=q[\"question\"], pdf_name=q[\"pdf_name\"])\n",
    "    relevance = [d[\"document_id\"] == doc_id for d in results]\n",
    "    relevance_total.append(relevance)"
   ]
  },
  {
   "cell_type": "code",
   "execution_count": 64,
   "id": "8b9759e5",
   "metadata": {},
   "outputs": [
    {
     "data": {
      "text/plain": [
       "(0.4506904369332234, 0.3569189681230966)"
      ]
     },
     "execution_count": 64,
     "metadata": {},
     "output_type": "execute_result"
    }
   ],
   "source": [
    "hit_rate(relevance_total), mrr(relevance_total)"
   ]
  },
  {
   "cell_type": "markdown",
   "id": "27e064d1",
   "metadata": {},
   "source": [
    "## Build Chromadb"
   ]
  },
  {
   "cell_type": "code",
   "execution_count": 65,
   "id": "52a87799",
   "metadata": {},
   "outputs": [],
   "source": [
    "def chroma_search(db, query):\n",
    "    results = db.similarity_search(query)\n",
    "    return results"
   ]
  },
  {
   "cell_type": "code",
   "execution_count": 47,
   "id": "a57ff7f6",
   "metadata": {},
   "outputs": [],
   "source": [
    "def create_langchain_document(text, metadata):\n",
    "    return Document(page_content=text, metadata=metadata)\n",
    "\n",
    "\n",
    "def create_langchain_document_list(document_dicts):\n",
    "    documents = []\n",
    "    for doc_dict in document_dicts:\n",
    "        metadata = doc_dict[\"metadata\"]\n",
    "        content = doc_dict[\"content\"]\n",
    "        doc = create_langchain_document(content, metadata)\n",
    "        documents.append(doc)\n",
    "    return documents\n",
    "\n",
    "\n",
    "lang_chain_docs = create_langchain_document_list(documents)"
   ]
  },
  {
   "cell_type": "code",
   "execution_count": 48,
   "id": "c854d997",
   "metadata": {},
   "outputs": [],
   "source": [
    "model_name = \"BAAI/bge-large-en-v1.5\"\n",
    "encode_kwargs = {\"normalize_embeddings\": True}  # set True to compute cosine similarity\n",
    "embedding_model = HuggingFaceBgeEmbeddings(\n",
    "    model_name=model_name,\n",
    "    # model_kwargs=model_kwargs,\n",
    "    encode_kwargs=encode_kwargs,\n",
    "    query_instruction=\"为这个句子生成表示以用于检索相关文章：\",\n",
    ")"
   ]
  },
  {
   "cell_type": "code",
   "execution_count": 49,
   "id": "534e0350",
   "metadata": {},
   "outputs": [],
   "source": [
    "db = Chroma.from_documents(\n",
    "    lang_chain_docs, embedding_model, persist_directory=\"../pdf_chroma_db\"\n",
    ")"
   ]
  },
  {
   "cell_type": "code",
   "execution_count": 52,
   "id": "4bdb05a3",
   "metadata": {},
   "outputs": [
    {
     "data": {
      "text/plain": [
       "{'metadata': {'document_id': 'f392923b41',\n",
       "  'pdf_name': 'Responsible_travel.pdf',\n",
       "  'pdf_part': 0,\n",
       "  'Header 2': 'Responsible Travel'},\n",
       " 'content': 'See Sustainable travel for the ecological and appropriate technology dimension of travel sustainability.',\n",
       " 'ground_truth': ['What are some eco-friendly accommodations in Southeast Asia?',\n",
       "  'How can I minimize my ecological footprint while traveling in Southeast Asia?',\n",
       "  'What are the best practices for responsible tourism in Southeast Asia?',\n",
       "  'Are there any community-based tourism projects I can support in Southeast Asia?']}"
      ]
     },
     "execution_count": 52,
     "metadata": {},
     "output_type": "execute_result"
    }
   ],
   "source": [
    "q"
   ]
  },
  {
   "cell_type": "code",
   "execution_count": 56,
   "id": "38f202e5",
   "metadata": {},
   "outputs": [
    {
     "data": {
      "text/plain": [
       "{'Header 1': 'Sustainable Travel',\n",
       " 'Header 2': 'Sleep',\n",
       " 'document_id': '15a52fbd26',\n",
       " 'pdf_name': 'Sustainable_travel.pdf',\n",
       " 'pdf_part': 1}"
      ]
     },
     "execution_count": 56,
     "metadata": {},
     "output_type": "execute_result"
    }
   ],
   "source": [
    "results[0].metadata"
   ]
  },
  {
   "cell_type": "code",
   "execution_count": 57,
   "id": "32957993",
   "metadata": {},
   "outputs": [
    {
     "name": "stderr",
     "output_type": "stream",
     "text": [
      "100%|██████████| 19408/19408 [14:35<00:00, 22.17it/s]\n"
     ]
    }
   ],
   "source": [
    "relevance_total = []\n",
    "\n",
    "for q in tqdm(flattened_gt_list):\n",
    "    doc_id = q[\"document_id\"]\n",
    "    results = chroma_search(db, query=q[\"question\"])\n",
    "    relevance = [d.metadata[\"document_id\"] == doc_id for d in results]\n",
    "    relevance_total.append(relevance)"
   ]
  },
  {
   "cell_type": "code",
   "execution_count": 61,
   "id": "f4c2a38b",
   "metadata": {},
   "outputs": [
    {
     "data": {
      "text/plain": [
       "[Document(metadata={'Header 2': 'Responsible Travel Vs Ecotourism', 'document_id': '301ee2b109', 'pdf_name': 'Responsible_travel.pdf', 'pdf_part': 1}, page_content=\"that the lodge you stay at does not harm the environment, but that the businesses you interact with (tourism providers, shops, hotels, etc) care about the local people and cultures as much as their bottom line. When you shop, you're putting your money in the hands of locals in a sustainable way, not staying at chain hotels, where revenue isn't spread around.\"),\n",
       " Document(metadata={'Header 2': 'Responsible Travel Vs Ecotourism', 'document_id': '301ee2b109', 'pdf_name': 'Responsible_travel.pdf', 'pdf_part': 1}, page_content=\"that the lodge you stay at does not harm the environment, but that the businesses you interact with (tourism providers, shops, hotels, etc) care about the local people and cultures as much as their bottom line. When you shop, you're putting your money in the hands of locals in a sustainable way, not staying at chain hotels, where revenue isn't spread around.\"),\n",
       " Document(metadata={'Header 2': 'Responsible Travel Vs Ecotourism', 'document_id': '301ee2b109', 'pdf_name': 'Responsible_travel.pdf', 'pdf_part': 1}, page_content=\"that the lodge you stay at does not harm the environment, but that the businesses you interact with (tourism providers, shops, hotels, etc) care about the local people and cultures as much as their bottom line. When you shop, you're putting your money in the hands of locals in a sustainable way, not staying at chain hotels, where revenue isn't spread around.\"),\n",
       " Document(metadata={'Header 2': 'Unmarried Couples', 'document_id': '0f5f363906', 'pdf_name': 'Indonesia.pdf', 'pdf_part': 0}, page_content=\"The Indonesian criminal code of 2022 made sex or **cohabiting between unmarried people** a criminal offense punishable by up to a year in jail. However, charges can *only* be pressed by the couple's relatives, meaning that foreign visitors are effectively off the hook. Exercise caution if dating locals, and if things get serious, try to keep on the good side of any future in-laws! Sharia-compliant hotels as well as those in conservative regions like Aceh may ask for marriage certificates, but\")]"
      ]
     },
     "execution_count": 61,
     "metadata": {},
     "output_type": "execute_result"
    }
   ],
   "source": [
    "results"
   ]
  },
  {
   "cell_type": "code",
   "execution_count": 59,
   "id": "93281562",
   "metadata": {},
   "outputs": [
    {
     "data": {
      "text/plain": [
       "(0.17152720527617477, 0.2094325364111078)"
      ]
     },
     "execution_count": 59,
     "metadata": {},
     "output_type": "execute_result"
    }
   ],
   "source": [
    "hit_rate(relevance_total), mrr(relevance_total)"
   ]
  },
  {
   "cell_type": "markdown",
   "id": "06431a0d",
   "metadata": {},
   "source": [
    "## Evaluation Results Chroma vs MinSearch"
   ]
  },
  {
   "cell_type": "markdown",
   "id": "f1cf9d59",
   "metadata": {},
   "source": [
    "The minsearch method is giving a hit rate of 0.45 and MRR of 0.37. The Chroma method is giving a hit rate of 0.17 and MRR of 0.20. I would expect that chroma db would have a higher score since it using text embeddings. Let's try another embedding model:"
   ]
  },
  {
   "cell_type": "code",
   "execution_count": 6,
   "id": "00fceb66",
   "metadata": {},
   "outputs": [
    {
     "name": "stderr",
     "output_type": "stream",
     "text": [
      "/Users/marialoureiro/Documents/GitHub/ethical-travel-recommender/.venv/lib/python3.12/site-packages/transformers/tokenization_utils_base.py:1601: FutureWarning: `clean_up_tokenization_spaces` was not set. It will be set to `True` by default. This behavior will be depracted in transformers v4.45, and will be then set to `False` by default. For more details check this issue: https://github.com/huggingface/transformers/issues/31884\n",
      "  warnings.warn(\n"
     ]
    }
   ],
   "source": [
    "model_name = \"sentence-transformers/multi-qa-mpnet-base-dot-v1\"\n",
    "encode_kwargs = {\"normalize_embeddings\": True}  # set True to compute cosine similarity\n",
    "embedding_model = HuggingFaceBgeEmbeddings(\n",
    "    model_name=model_name,\n",
    "    # model_kwargs=model_kwargs,\n",
    "    encode_kwargs=encode_kwargs,\n",
    "    query_instruction=\"为这个句子生成表示以用于检索相关文章：\",\n",
    ")"
   ]
  },
  {
   "cell_type": "code",
   "execution_count": 67,
   "id": "d3dcc3e1",
   "metadata": {},
   "outputs": [],
   "source": [
    "db2 = Chroma.from_documents(\n",
    "    lang_chain_docs, embedding_model, persist_directory=\"../pdf_chroma_db2\"\n",
    ")"
   ]
  },
  {
   "cell_type": "code",
   "execution_count": 68,
   "id": "d550b94c",
   "metadata": {},
   "outputs": [
    {
     "name": "stderr",
     "output_type": "stream",
     "text": [
      "100%|██████████| 19408/19408 [04:16<00:00, 75.57it/s]\n"
     ]
    }
   ],
   "source": [
    "relevance_total = []\n",
    "\n",
    "for q in tqdm(flattened_gt_list):\n",
    "    doc_id = q[\"document_id\"]\n",
    "    results = chroma_search(db2, query=q[\"question\"])\n",
    "    relevance = [d.metadata[\"document_id\"] == doc_id for d in results]\n",
    "    relevance_total.append(relevance)"
   ]
  },
  {
   "cell_type": "code",
   "execution_count": 69,
   "id": "dc3cc3c9",
   "metadata": {},
   "outputs": [
    {
     "data": {
      "text/plain": [
       "(0.2796784830997527, 0.19250223275625766)"
      ]
     },
     "execution_count": 69,
     "metadata": {},
     "output_type": "execute_result"
    }
   ],
   "source": [
    "hit_rate(relevance_total), mrr(relevance_total)"
   ]
  },
  {
   "cell_type": "markdown",
   "id": "5ae6fca4",
   "metadata": {},
   "source": [
    "This has improved the hit rate but reduced the MRR. I will now try to implement a more complex retrieval system, using hybrid search and document reranking. "
   ]
  },
  {
   "cell_type": "markdown",
   "id": "59470708",
   "metadata": {},
   "source": [
    "## Build PGVector"
   ]
  },
  {
   "cell_type": "code",
   "execution_count": 11,
   "id": "657fcf1e",
   "metadata": {},
   "outputs": [],
   "source": [
    "import psycopg2\n",
    "from psycopg2.extensions import ISOLATION_LEVEL_AUTOCOMMIT\n",
    "\n",
    "db_name = \"vector_db\"\n",
    "conn = psycopg2.connect(\n",
    "    host=\"localhost\",\n",
    "    database=\"postgres\",\n",
    "    user=\"marialoureiro\",\n",
    "    password=\"password\",\n",
    ")\n",
    "conn.set_isolation_level(ISOLATION_LEVEL_AUTOCOMMIT)\n",
    "\n",
    "conn.autocommit = True\n",
    "\n",
    "with conn.cursor() as c:\n",
    "    c.execute(f\"DROP DATABASE IF EXISTS {db_name}\")\n",
    "    c.execute(f\"CREATE DATABASE {db_name}\")\n",
    "\n",
    "conn.close()"
   ]
  },
  {
   "cell_type": "code",
   "execution_count": 12,
   "id": "05a5d078",
   "metadata": {},
   "outputs": [],
   "source": [
    "model_name = (\n",
    "    \"BAAI/bge-large-en-v1.5\"  # \"sentence-transformers/multi-qa-mpnet-base-dot-v1\"\n",
    ")\n",
    "embed_dim = 1024\n",
    "llama_embedding_model = HuggingFaceEmbedding(model_name=model_name)"
   ]
  },
  {
   "cell_type": "code",
   "execution_count": 13,
   "id": "1c5039c2",
   "metadata": {},
   "outputs": [],
   "source": [
    "vector_store = PGVectorStore.from_params(\n",
    "    database=db_name,\n",
    "    host=\"localhost\",\n",
    "    password=\"password\",\n",
    "    port=5432,\n",
    "    user=\"marialoureiro\",\n",
    "    table_name=\"southeast_asia_countries\",\n",
    "    hybrid_search=True,\n",
    "    text_search_config=\"english\",\n",
    "    embed_dim=embed_dim,\n",
    ")\n",
    "\"\"\"     hnsw_kwargs={\n",
    "        \"hnsw_m\": 16,\n",
    "        \"hnsw_ef_construction\": 64,\n",
    "        \"hnsw_ef_search\": 40,\n",
    "        \"hnsw_dist_method\": \"cosine\",\n",
    "    }, \"\"\"\n",
    "\n",
    "\n",
    "def build_index(embedding_model):\n",
    "    \"\"\"\n",
    "    Builds an index using the provided embedding model.\n",
    "\n",
    "    Args:\n",
    "        embedding_model: The embedding model to use for generating embeddings.\n",
    "    \"\"\"\n",
    "\n",
    "    Settings.embed_model = embedding_model\n",
    "\n",
    "    storage_context = StorageContext.from_defaults(vector_store=vector_store)\n",
    "\n",
    "    index = VectorStoreIndex.from_documents([], storage_context=storage_context)\n",
    "\n",
    "    return index\n",
    "\n",
    "\n",
    "def add_document(index, document: dict):\n",
    "    \"\"\"\n",
    "    Adds a document to the index.\n",
    "\n",
    "    Args:\n",
    "        document (dict): A dictionary containing the document's content and metadata.\n",
    "    \"\"\"\n",
    "    llama_node = TextNode(\n",
    "        text=document[\"content\"],\n",
    "        metadata=document[\"metadata\"],\n",
    "        id_=document[\"metadata\"][\"document_id\"],\n",
    "    )\n",
    "\n",
    "    index.insert_nodes([llama_node])\n",
    "\n",
    "    return index"
   ]
  },
  {
   "cell_type": "code",
   "execution_count": 14,
   "id": "3755f592",
   "metadata": {},
   "outputs": [],
   "source": [
    "index = build_index(llama_embedding_model)"
   ]
  },
  {
   "cell_type": "code",
   "execution_count": 15,
   "id": "dd4739ac",
   "metadata": {},
   "outputs": [],
   "source": [
    "for doc in documents:\n",
    "    index = add_document(index, doc)"
   ]
  },
  {
   "cell_type": "code",
   "execution_count": 20,
   "id": "1973f98f",
   "metadata": {},
   "outputs": [],
   "source": [
    "query_engine = index.as_query_engine(vector_store_query_mode=\"hybrid\", sparse_top_k=4)"
   ]
  },
  {
   "cell_type": "code",
   "execution_count": 21,
   "id": "5c87fcc5",
   "metadata": {},
   "outputs": [
    {
     "name": "stdout",
     "output_type": "stream",
     "text": [
      "Bali is one of the best cities to visit in Indonesia.\n",
      "interested in pleasing the customer in the case of a problem. Java has by far the best railway network, with trains connecting the capital city, Jakarta, with other main cities such as Surabaya, Semarang, Yogyakarta and Solo. In particular, Indonesia's first high-speed railway (*Kereta Cepat*), a Chinese-built line from Jakarta to Bandung somewhat cringily named **Whoosh**, opened in 2023 and, running at up to 350 km/h, connects the two cities in as little as 30 minutes. There are plans to\n"
     ]
    }
   ],
   "source": [
    "answer = query_engine.query(\n",
    "    \"hello, what is the best city to visit in indonesia?\",\n",
    ")\n",
    "print(answer.response)\n",
    "print(answer.source_nodes[0].text)"
   ]
  },
  {
   "cell_type": "code",
   "execution_count": 24,
   "id": "737a41e8",
   "metadata": {},
   "outputs": [
    {
     "data": {
      "text/plain": [
       "{'document_id': 'cee7e86be8',\n",
       " 'pdf_name': 'Indonesia.pdf',\n",
       " 'pdf_part': 2,\n",
       " 'Header 2': 'By Yacht'}"
      ]
     },
     "execution_count": 24,
     "metadata": {},
     "output_type": "execute_result"
    }
   ],
   "source": [
    "answer.source_nodes[0].metadata"
   ]
  },
  {
   "cell_type": "code",
   "execution_count": 27,
   "id": "26a43af7",
   "metadata": {},
   "outputs": [],
   "source": [
    "def pgvector_search(query_engine, question):\n",
    "\n",
    "    results = query_engine.query(question).source_nodes\n",
    "\n",
    "    return results"
   ]
  },
  {
   "cell_type": "code",
   "execution_count": null,
   "id": "6ae4082b",
   "metadata": {},
   "outputs": [],
   "source": [
    "relevance_total = []\n",
    "\n",
    "for q in tqdm(flattened_gt_list):\n",
    "    doc_id = q[\"document_id\"]\n",
    "    results = pgvector_search(query_engine, question=q[\"question\"])\n",
    "    relevance = [d.metadata[\"document_id\"] == doc_id for d in results]\n",
    "    relevance_total.append(relevance)"
   ]
  },
  {
   "cell_type": "code",
   "execution_count": 31,
   "id": "42e7fa64",
   "metadata": {},
   "outputs": [
    {
     "data": {
      "text/plain": [
       "(0.43738656987295826, 0.2357304900181445)"
      ]
     },
     "execution_count": 31,
     "metadata": {},
     "output_type": "execute_result"
    }
   ],
   "source": [
    "hit_rate(relevance_total), mrr(relevance_total)"
   ]
  },
  {
   "cell_type": "markdown",
   "id": "fcfaa6a2",
   "metadata": {},
   "source": [
    "## Final Decision on Retrieval System"
   ]
  },
  {
   "cell_type": "markdown",
   "id": "ec52cd11",
   "metadata": {},
   "source": [
    "Although min search provided the best results, PGVector with be chosen considering it's ability of performing hybrid search, which can be useful in more complex questions, as well as scalibity in the future with it's connection to Postgres DB."
   ]
  }
 ],
 "metadata": {
  "kernelspec": {
   "display_name": "venv",
   "language": "python",
   "name": "venv"
  },
  "language_info": {
   "codemirror_mode": {
    "name": "ipython",
    "version": 3
   },
   "file_extension": ".py",
   "mimetype": "text/x-python",
   "name": "python",
   "nbconvert_exporter": "python",
   "pygments_lexer": "ipython3",
   "version": "3.12.4"
  },
  "toc": {
   "base_numbering": 1,
   "nav_menu": {
    "height": "170px",
    "width": "344px"
   },
   "number_sections": true,
   "sideBar": true,
   "skip_h1_title": false,
   "title_cell": "Table of Contents",
   "title_sidebar": "Contents",
   "toc_cell": false,
   "toc_position": {},
   "toc_section_display": true,
   "toc_window_display": false
  },
  "varInspector": {
   "cols": {
    "lenName": 16,
    "lenType": 16,
    "lenVar": 40
   },
   "kernels_config": {
    "python": {
     "delete_cmd_postfix": "",
     "delete_cmd_prefix": "del ",
     "library": "var_list.py",
     "varRefreshCmd": "print(var_dic_list())"
    },
    "r": {
     "delete_cmd_postfix": ") ",
     "delete_cmd_prefix": "rm(",
     "library": "var_list.r",
     "varRefreshCmd": "cat(var_dic_list()) "
    }
   },
   "types_to_exclude": [
    "module",
    "function",
    "builtin_function_or_method",
    "instance",
    "_Feature"
   ],
   "window_display": false
  }
 },
 "nbformat": 4,
 "nbformat_minor": 5
}
