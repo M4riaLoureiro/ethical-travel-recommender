{
 "cells": [
  {
   "cell_type": "markdown",
   "id": "bb3aca59-8240-4cd4-bed6-900ed643d1a2",
   "metadata": {},
   "source": [
    "# RAG experiments\n",
    "In this notebook the vector database is used with a retrieval engine to evaluate questions based on the documentation"
   ]
  },
  {
   "cell_type": "code",
   "execution_count": 11,
   "id": "e2c4c00e-76de-42c2-b0aa-55c16ae023b1",
   "metadata": {
    "tags": []
   },
   "outputs": [
    {
     "data": {
      "text/plain": [
       "True"
      ]
     },
     "execution_count": 11,
     "metadata": {},
     "output_type": "execute_result"
    }
   ],
   "source": [
    "import argparse\n",
    "import sys\n",
    "from pathlib import Path\n",
    "import yaml\n",
    "import streamlit as st\n",
    "from langchain_openai import ChatOpenAI\n",
    "from llama_index.embeddings.huggingface import HuggingFaceEmbedding\n",
    "import os\n",
    "from dotenv import load_dotenv\n",
    "from pydantic import BaseModel\n",
    "import json\n",
    "\n",
    "notebook_dir = os.getcwd()\n",
    "travel_sea_dir = os.path.abspath(os.path.join(notebook_dir, \"..\", \"TravelSEA\"))\n",
    "sys.path.append(travel_sea_dir)\n",
    "\n",
    "from utils.vector_storage import PGVectorDB\n",
    "\n",
    "load_dotenv()"
   ]
  },
  {
   "cell_type": "code",
   "execution_count": 12,
   "id": "430bfd2f",
   "metadata": {},
   "outputs": [],
   "source": [
    "class AppConfig(BaseModel):\n",
    "    class Config:\n",
    "        arbitrary_types_allowed = True\n",
    "\n",
    "    class Database(BaseModel):\n",
    "        name: str\n",
    "        host: str\n",
    "        password: str\n",
    "        username: str\n",
    "        port: int\n",
    "        table_name: str\n",
    "\n",
    "    class EmbeddingModel(BaseModel):\n",
    "        embed_model_name: str\n",
    "        embed_dim: int\n",
    "\n",
    "    class LLM(BaseModel):\n",
    "        openai_model: str\n",
    "        temperature: float\n",
    "\n",
    "    database: Database\n",
    "    embedding_model: EmbeddingModel\n",
    "    llm: LLM\n",
    "\n",
    "\n",
    "def load_config(config_path):\n",
    "    \"\"\"Load configuration from YAML file.\"\"\"\n",
    "    with open(config_path, \"r\") as f:\n",
    "        config_dict = yaml.safe_load(f)\n",
    "    return AppConfig(**config_dict)"
   ]
  },
  {
   "cell_type": "code",
   "execution_count": 13,
   "id": "17982ddd",
   "metadata": {},
   "outputs": [],
   "source": [
    "def initialize_vector_db_engine(db_config, embedding_config):\n",
    "    \"\"\"Initialize connection to vector database.\"\"\"\n",
    "    vectordb = PGVectorDB(\n",
    "        db_config.name,\n",
    "        db_config.host,\n",
    "        db_config.password,\n",
    "        db_config.username,\n",
    "        db_config.port,\n",
    "        db_config.table_name,\n",
    "        embed_dim=embedding_config.embed_dim,\n",
    "    )\n",
    "\n",
    "    llama_embedding_model = HuggingFaceEmbedding(\n",
    "        model_name=embedding_config.embed_model_name\n",
    "    )\n",
    "\n",
    "    vectordb.build_index(llama_embedding_model)\n",
    "\n",
    "    query_engine = vectordb.index.as_query_engine(\n",
    "        vector_store_query_mode=\"hybrid\", sparse_top_k=4\n",
    "    )\n",
    "\n",
    "    return query_engine"
   ]
  },
  {
   "cell_type": "code",
   "execution_count": 29,
   "id": "38d7f7cd",
   "metadata": {},
   "outputs": [],
   "source": [
    "def get_rag_response(prompt_template, query: str, query_engine, llm) -> str:\n",
    "    \"\"\"\n",
    "    Get response using RAG:\n",
    "    1. Retrieve relevant documents\n",
    "    2. Create prompt with context\n",
    "    3. Get LLM response\n",
    "    \"\"\"\n",
    "    # Retrieve relevant documents\n",
    "    relevant_docs = query_engine.query(query)\n",
    "\n",
    "    context = []\n",
    "    for doc in relevant_docs.source_nodes:\n",
    "        context.append(doc.text)\n",
    "\n",
    "    context = \"\\n\\n\".join([doc for doc in context])\n",
    "\n",
    "    prompt = prompt_template.format(context=context, query=query)\n",
    "\n",
    "    # Get LLM response\n",
    "    response = llm.predict(prompt)\n",
    "\n",
    "    return response"
   ]
  },
  {
   "cell_type": "code",
   "execution_count": 15,
   "id": "828581bc",
   "metadata": {},
   "outputs": [],
   "source": [
    "openai_api_key = os.getenv(\"OPENAI_API_KEY\")"
   ]
  },
  {
   "cell_type": "code",
   "execution_count": 20,
   "id": "3c5ba87b",
   "metadata": {},
   "outputs": [],
   "source": [
    "config = load_config(\"../TravelSEA/config.yaml\")"
   ]
  },
  {
   "cell_type": "code",
   "execution_count": 21,
   "id": "351fbfb4",
   "metadata": {},
   "outputs": [],
   "source": [
    "query_engine = initialize_vector_db_engine(config.database, config.embedding_model)"
   ]
  },
  {
   "cell_type": "code",
   "execution_count": 22,
   "id": "b9c24504",
   "metadata": {},
   "outputs": [],
   "source": [
    "llm = ChatOpenAI(\n",
    "    api_key=openai_api_key,\n",
    "    model=config.llm.openai_model,\n",
    "    temperature=config.llm.temperature,\n",
    ")"
   ]
  },
  {
   "cell_type": "markdown",
   "id": "4d9b173e",
   "metadata": {},
   "source": [
    "## Test first prompt"
   ]
  },
  {
   "cell_type": "code",
   "execution_count": 35,
   "id": "c4d25553",
   "metadata": {},
   "outputs": [
    {
     "name": "stdout",
     "output_type": "stream",
     "text": [
      "Indonesia offers a wealth of attractions and experiences for visitors. Some of the highlights include:\n",
      "\n",
      "1. **Borobudur**: Located in Central Java, it is the world's largest Buddhist monument dating from the 8th century.\n",
      "\n",
      "2. **Prambanan**: A remarkable Hindu temple complex near Yogyakarta, dating from just a few years after Borobudur.\n",
      "\n",
      "3. **Bromo-Tengger-Semeru National Park**: Known for stunning volcanic landscapes and opportunities for hiking and photography.\n",
      "\n",
      "4. **Lake Toba**: Situated near Medan, it's one of the largest volcanic lakes in the world and offers beautiful scenery and cultural experiences with the Batak people.\n",
      "\n",
      "5. **Lawang Sewu**: A historical building in Central Java, known for its Dutch-era architecture and purported hauntings.\n",
      "\n",
      "6. **Dieng Plateau**: Home to the oldest extant temples in Indonesia, offering a glimpse into ancient Hindu architecture.\n",
      "\n",
      "These are just a few of the many attractions in Indonesia, and the country is full of diverse cultural, historical, and natural sites to explore. Keep in mind that navigating some areas might be challenging due to road conditions and changing street names.\n"
     ]
    }
   ],
   "source": [
    "user_question = \"what can i see in indonesia?\"\n",
    "prompt_template = \"\"\"\n",
    "    Context: {context}\n",
    "    \n",
    "    Question: {query}\n",
    "    \n",
    "    Answer: \"\"\"\n",
    "response = get_rag_response(prompt_template, user_question, query_engine, llm)\n",
    "print(response)"
   ]
  },
  {
   "cell_type": "code",
   "execution_count": 36,
   "id": "ee246065",
   "metadata": {},
   "outputs": [
    {
     "name": "stdout",
     "output_type": "stream",
     "text": [
      "In Vietnam, you can experience a variety of attractions that highlight both its traditional culture and modern development. In Ho Chi Minh City (Saigon), you can visit ancient pagodas alongside towering skyscrapers, with notable sites including the Reunification Palace and Giac Lam Pagoda. In the former imperial town of Hue, you can explore the Citadel and the Tombs of the Emperors along the Perfume River. Beyond the cities, you can witness lush rice fields nestled in beautiful highlands, vibrant water markets in the Mekong Delta, and the lively urban life of Hanoi, where motorcycles carry everything from school children to large goods. Vietnam offers a rich tapestry of experiences combining natural beauty, historical sites, and bustling city life.\n"
     ]
    }
   ],
   "source": [
    "user_question = \"what can i see in vietnam?\"\n",
    "prompt_template = \"\"\"\n",
    "    Context: {context}\n",
    "    \n",
    "    Question: {query}\n",
    "    \n",
    "    Answer: \"\"\"\n",
    "response = get_rag_response(prompt_template, user_question, query_engine, llm)\n",
    "print(response)"
   ]
  },
  {
   "cell_type": "code",
   "execution_count": 39,
   "id": "b9d42ec9",
   "metadata": {},
   "outputs": [
    {
     "name": "stdout",
     "output_type": "stream",
     "text": [
      "To play Monopoly, you'll need a standard Monopoly board game set, which includes the game board, two dice, player tokens, property cards, Chance and Community Chest cards, houses, hotels, and Monopoly money. Here’s a basic guide on how to play:\n",
      "\n",
      "1. **Setup:**\n",
      "   - Lay out the board and place the Chance and Community Chest cards on their designated spaces.\n",
      "   - Each player chooses a token and places it on the \"Go\" space.\n",
      "   - Choose a banker to manage the money, property cards, houses, and hotels.\n",
      "   - Each player receives $1,500 in Monopoly money, typically distributed as: two $500s, four $100s, one $50, one $20, two $10s, one $5, and five $1s.\n",
      "\n",
      "2. **Objective:**\n",
      "   - The goal of Monopoly is to be the last player remaining with any money, having driven your opponents into bankruptcy.\n",
      "\n",
      "3. **Game Play:**\n",
      "   - Players take turns rolling the dice and moving their tokens clockwise around the board.\n",
      "   - Depending on where you land, you can buy properties, pay rent, draw Chance or Community Chest cards, pay taxes, or go to jail.\n",
      "\n",
      "4. **Buying Properties:**\n",
      "   - If you land on an unowned property, you can buy it from the bank at its listed price.\n",
      "   - If you choose not to buy, the property is auctioned to the highest bidder.\n",
      "\n",
      "5. **Paying Rent:**\n",
      "   - If you land on a property owned by another player, you must pay them rent according to the property's rent card. Rent can increase if the owner has built houses or hotels on the property.\n",
      "\n",
      "6. **Building Houses and Hotels:**\n",
      "   - Once you own all properties in a color group, you can build houses, then hotels, on those properties to increase rent.\n",
      "\n",
      "7. **Special Spaces:**\n",
      "   - **Chance and Community Chest:** Draw a card and follow the instructions.\n",
      "   - **Income Tax and Luxury Tax:** Pay the bank the specified amount.\n",
      "   - **Go to Jail:** Move directly to jail without passing Go or collecting $200.\n",
      "   - **Free Parking:** This space has no specific rules, but house rules often apply.\n",
      "\n",
      "8. **Jail:**\n",
      "   - You can get out of jail by rolling doubles on your next turn, using a \"Get Out of Jail Free\" card, or paying a $50 fine.\n",
      "\n",
      "9. **Winning the Game:**\n",
      "   - The game ends when all but one player go bankrupt. The remaining player is the winner.\n",
      "\n",
      "Remember, Monopoly can be played with various house rules, and players often introduce their own variations to make the game more enjoyable.\n"
     ]
    }
   ],
   "source": [
    "user_question = \"how can i play monopoly?\"\n",
    "prompt_template = \"\"\"\n",
    "    Context: {context}\n",
    "    \n",
    "    Question: {query}\n",
    "    \n",
    "    Answer: \"\"\"\n",
    "response = get_rag_response(prompt_template, user_question, query_engine, llm)\n",
    "print(response)"
   ]
  },
  {
   "cell_type": "markdown",
   "id": "424c0589",
   "metadata": {},
   "source": [
    "## Test second prompt"
   ]
  },
  {
   "cell_type": "code",
   "execution_count": 37,
   "id": "128221f1",
   "metadata": {},
   "outputs": [
    {
     "name": "stdout",
     "output_type": "stream",
     "text": [
      "Indonesia offers a wealth of culturally and historically significant sites, alongside stunning natural beauty, all of which can be explored with a focus on sustainable tourism. Here are some highlights you can consider:\n",
      "\n",
      "1. **Borobudur Temple**: Located in Central Java, it is the world's largest Buddhist monument from the 8th century. It's an excellent place to learn about Indonesia's rich Buddhist history while supporting local conservation efforts.\n",
      "\n",
      "2. **Prambanan Temple**: Also in Yogyakarta, this remarkable Hindu monument dates from the 9th century. You can explore its beautiful architecture while contributing to the preservation of these ancient sites.\n",
      "\n",
      "3. **Bromo-Tengger-Semeru National Park**: A fantastic destination for nature lovers, this park offers breathtaking volcanic landscapes. Ensure you follow eco-friendly travel practices, such as staying on designated paths and minimizing waste, to protect the fragile environment.\n",
      "\n",
      "4. **Lake Toba**: Located near Medan, Lake Toba is a stunning natural lake formed by a supervolcanic eruption. Engaging with local communities and choosing eco-friendly accommodations can enhance your experience and support sustainable tourism in the region.\n",
      "\n",
      "5. **Dieng Plateau**: Known for its ancient temples that predate even Borobudur, this site offers a glimpse into early Indonesian history. Supporting local guides can help sustain the community while providing you with a richer, more informed experience.\n",
      "\n",
      "6. **Lawang Sewu**: This historic site in Central Java has served various purposes over the years and is known for its rumored hauntings. Visiting this site responsibly helps preserve its complex history.\n",
      "\n",
      "For a more fulfilling experience, consider supporting local businesses, using eco-friendly transportation options, and respecting cultural sites and customs. If you have more specific interests or destinations in mind, please let me know, and I can provide further tailored suggestions!\n"
     ]
    }
   ],
   "source": [
    "user_question = \"what can i see in indonesia?\"\n",
    "prompt_template = \"\"\"You are TravelSEA Advisor, an AI travel assistant specialized in sustainable tourism in Southeast Asia. \n",
    "    Use the following context to answer the question. If you cannot find the answer in the context, \n",
    "    say so politely and suggest what information might be helpful to better answer the question.\n",
    "    Please always keep in mind the suistanability aspect of the travel.\n",
    "    \n",
    "    Context: {context}\n",
    "    \n",
    "    Question: {query}\n",
    "    \n",
    "    Answer: \"\"\"\n",
    "response = get_rag_response(prompt_template, user_question, query_engine, llm)\n",
    "print(response)"
   ]
  },
  {
   "cell_type": "code",
   "execution_count": 38,
   "id": "482e90e3",
   "metadata": {},
   "outputs": [
    {
     "name": "stdout",
     "output_type": "stream",
     "text": [
      "In Vietnam, you can experience a vibrant blend of traditional culture and modern life. Here are some highlights:\n",
      "\n",
      "1. **Ho Chi Minh City (Saigon)**: Visit ancient pagodas like the Giac Lam Pagoda and explore the Reunification Palace. The city is a fascinating mix of old and new, with traditional street life amidst towering skyscrapers.\n",
      "\n",
      "2. **Hue**: Discover the former imperial town with its beautiful Citadel and the Tombs of the Emperors along the Perfume River. This area offers a glimpse into Vietnam's rich history.\n",
      "\n",
      "3. **Mekong Delta**: Experience the colorful water markets and the rural charm of lush rice fields set against stunning highlands.\n",
      "\n",
      "4. **Hanoi**: Enjoy the bustling city life where traditional culture persists despite the rapid modernization. You might see motorcycles transporting everything from school children to large goods.\n",
      "\n",
      "To enhance your travel experience sustainably, consider using eco-friendly transportation options, supporting local businesses, and respecting cultural sites.\n"
     ]
    }
   ],
   "source": [
    "user_question = \"what can i see in vietnam?\"\n",
    "prompt_template = \"\"\"You are TravelSEA Advisor, an AI travel assistant specialized in sustainable tourism in Southeast Asia. \n",
    "    Use the following context to answer the question. If you cannot find the answer in the context, \n",
    "    say so politely and suggest what information might be helpful to better answer the question.\n",
    "    Please always keep in mind the suistanability aspect of the travel.\n",
    "    \n",
    "    Context: {context}\n",
    "    \n",
    "    Question: {query}\n",
    "    \n",
    "    Answer: \"\"\"\n",
    "response = get_rag_response(prompt_template, user_question, query_engine, llm)\n",
    "print(response)"
   ]
  },
  {
   "cell_type": "code",
   "execution_count": null,
   "id": "e0eaefe3",
   "metadata": {},
   "outputs": [],
   "source": []
  }
 ],
 "metadata": {
  "kernelspec": {
   "display_name": "ethical_recommender",
   "language": "python",
   "name": "ethical_recommender"
  },
  "language_info": {
   "codemirror_mode": {
    "name": "ipython",
    "version": 3
   },
   "file_extension": ".py",
   "mimetype": "text/x-python",
   "name": "python",
   "nbconvert_exporter": "python",
   "pygments_lexer": "ipython3",
   "version": "3.12.4"
  },
  "toc": {
   "base_numbering": 1,
   "nav_menu": {
    "height": "141px",
    "width": "427px"
   },
   "number_sections": true,
   "sideBar": true,
   "skip_h1_title": false,
   "title_cell": "Table of Contents",
   "title_sidebar": "Contents",
   "toc_cell": false,
   "toc_position": {
    "height": "calc(100% - 180px)",
    "left": "10px",
    "top": "150px",
    "width": "238px"
   },
   "toc_section_display": true,
   "toc_window_display": false
  },
  "varInspector": {
   "cols": {
    "lenName": 16,
    "lenType": 16,
    "lenVar": 40
   },
   "kernels_config": {
    "python": {
     "delete_cmd_postfix": "",
     "delete_cmd_prefix": "del ",
     "library": "var_list.py",
     "varRefreshCmd": "print(var_dic_list())"
    },
    "r": {
     "delete_cmd_postfix": ") ",
     "delete_cmd_prefix": "rm(",
     "library": "var_list.r",
     "varRefreshCmd": "cat(var_dic_list()) "
    }
   },
   "types_to_exclude": [
    "module",
    "function",
    "builtin_function_or_method",
    "instance",
    "_Feature"
   ],
   "window_display": false
  }
 },
 "nbformat": 4,
 "nbformat_minor": 5
}
